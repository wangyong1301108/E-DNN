{
 "cells": [
  {
   "cell_type": "code",
   "execution_count": 1,
   "id": "905cc23d",
   "metadata": {
    "ExecuteTime": {
     "end_time": "2024-06-12T08:00:30.426989Z",
     "start_time": "2024-06-12T08:00:29.670126Z"
    }
   },
   "outputs": [
    {
     "name": "stderr",
     "output_type": "stream",
     "text": [
      "D:\\anaconda\\envs\\tf\\lib\\site-packages\\tensorflow\\python\\framework\\dtypes.py:526: FutureWarning: Passing (type, 1) or '1type' as a synonym of type is deprecated; in a future version of numpy, it will be understood as (type, (1,)) / '(1,)type'.\n",
      "  _np_qint8 = np.dtype([(\"qint8\", np.int8, 1)])\n",
      "D:\\anaconda\\envs\\tf\\lib\\site-packages\\tensorflow\\python\\framework\\dtypes.py:527: FutureWarning: Passing (type, 1) or '1type' as a synonym of type is deprecated; in a future version of numpy, it will be understood as (type, (1,)) / '(1,)type'.\n",
      "  _np_quint8 = np.dtype([(\"quint8\", np.uint8, 1)])\n",
      "D:\\anaconda\\envs\\tf\\lib\\site-packages\\tensorflow\\python\\framework\\dtypes.py:528: FutureWarning: Passing (type, 1) or '1type' as a synonym of type is deprecated; in a future version of numpy, it will be understood as (type, (1,)) / '(1,)type'.\n",
      "  _np_qint16 = np.dtype([(\"qint16\", np.int16, 1)])\n",
      "D:\\anaconda\\envs\\tf\\lib\\site-packages\\tensorflow\\python\\framework\\dtypes.py:529: FutureWarning: Passing (type, 1) or '1type' as a synonym of type is deprecated; in a future version of numpy, it will be understood as (type, (1,)) / '(1,)type'.\n",
      "  _np_quint16 = np.dtype([(\"quint16\", np.uint16, 1)])\n",
      "D:\\anaconda\\envs\\tf\\lib\\site-packages\\tensorflow\\python\\framework\\dtypes.py:530: FutureWarning: Passing (type, 1) or '1type' as a synonym of type is deprecated; in a future version of numpy, it will be understood as (type, (1,)) / '(1,)type'.\n",
      "  _np_qint32 = np.dtype([(\"qint32\", np.int32, 1)])\n",
      "D:\\anaconda\\envs\\tf\\lib\\site-packages\\tensorflow\\python\\framework\\dtypes.py:535: FutureWarning: Passing (type, 1) or '1type' as a synonym of type is deprecated; in a future version of numpy, it will be understood as (type, (1,)) / '(1,)type'.\n",
      "  np_resource = np.dtype([(\"resource\", np.ubyte, 1)])\n"
     ]
    }
   ],
   "source": [
    "import tensorflow as tf\n",
    "import numpy as np\n",
    "import scipy.io\n",
    "from pyDOE import lhs\n",
    "import math"
   ]
  },
  {
   "cell_type": "code",
   "execution_count": 2,
   "id": "62861606",
   "metadata": {
    "ExecuteTime": {
     "end_time": "2024-06-12T08:00:31.438200Z",
     "start_time": "2024-06-12T08:00:31.420842Z"
    }
   },
   "outputs": [],
   "source": [
    "RandomSeed = 1234\n",
    "np.random.seed(RandomSeed)\n",
    "tf.set_random_seed(RandomSeed)"
   ]
  },
  {
   "cell_type": "code",
   "execution_count": 3,
   "id": "e310e98d",
   "metadata": {
    "ExecuteTime": {
     "end_time": "2024-06-12T08:00:31.485200Z",
     "start_time": "2024-06-12T08:00:31.443200Z"
    }
   },
   "outputs": [],
   "source": [
    "class PtPINN:\n",
    "    # Initialize the class\n",
    "    def __init__(self, x, t, u, lb, ub, ubp, layers):\n",
    "        \n",
    "        X = np.concatenate([x, t], 1)\n",
    "\n",
    "        self.X = X\n",
    "        \n",
    "        self.x = X[:,0:1]\n",
    "        self.t = X[:,1:2]\n",
    "        \n",
    "        self.u = u\n",
    "        self.hsadasjd=0\n",
    "        self.lb = lb\n",
    "        self.ub = ub\n",
    "\n",
    "        self.ubp = ubp\n",
    "\n",
    "        self.layers = layers\n",
    "        self.weights, self.biases = self.initialize_NN(layers)\n",
    "\n",
    "\n",
    "        self.sess = tf.Session(config=tf.ConfigProto(allow_soft_placement=True, log_device_placement=True))    \n",
    "\n",
    "        self.x_f_tf = tf.placeholder(tf.float64, shape=[None, self.x.shape[1]])\n",
    "        self.t_f_tf = tf.placeholder(tf.float64, shape=[None, self.t.shape[1]])\n",
    "        \n",
    "        self.x_lb_tf = tf.placeholder(tf.float64, shape=[None, self.x.shape[1]])\n",
    "        self.t_b_tf = tf.placeholder(tf.float64, shape=[None, self.t.shape[1]])\n",
    "        self.x_ub_tf = tf.placeholder(tf.float64, shape=[None, self.x.shape[1]])\n",
    "        \n",
    "        self.x_tf = tf.placeholder(tf.float64, shape=[None, self.x.shape[1]])\n",
    "        self.t_tf = tf.placeholder(tf.float64, shape=[None, self.t.shape[1]])\n",
    "        \n",
    "        self.u_tf = tf.placeholder(tf.float64, shape=[None, self.u.shape[1]])\n",
    "\n",
    "        self.u_pred, _ ,_ = self.net_AC(self.x_tf, self.t_tf)\n",
    "        self.u_lb_pred, self.ux_lb_pred,_ = self.net_AC(self.x_lb_tf, self.t_b_tf)\n",
    "        self.u_ub_pred, self.ux_ub_pred,_ = self.net_AC(self.x_ub_tf, self.t_b_tf)\n",
    "\n",
    "        self.f_pred = self.net_f(self.x_f_tf, self.t_f_tf)\n",
    "        \n",
    "        \n",
    "        self.lossS = tf.reduce_mean(tf.square(self.u_tf - self.u_pred))\n",
    "                                              \n",
    "        self.lossB = tf.reduce_mean(tf.square(self.u_lb_pred - self.u_ub_pred)) + tf.reduce_mean(tf.square(self.ux_lb_pred - self.ux_ub_pred))\n",
    "                                             \n",
    "        self.lossfu = tf.reduce_mean(tf.square(self.f_pred))        \n",
    "        \n",
    "        \n",
    "        \n",
    "        self.optimizer_Adam = tf.train.AdamOptimizer()\n",
    "\n",
    "        self.loss  =  100 * self.lossS + self.lossB + self.lossfu\n",
    "                  \n",
    "        \n",
    "        self.train_op_Adam = self.optimizer_Adam.minimize(self.loss)      \n",
    "\n",
    "        self.sess = tf.Session(config=tf.ConfigProto(allow_soft_placement=True, log_device_placement=True))\n",
    "    \n",
    "        init = tf.global_variables_initializer()\n",
    "        self.sess.run(init)\n",
    "        self.save = tf.train.Saver(max_to_keep=1)\n",
    "              \n",
    "    def initialize_NN(self, layers):        \n",
    "        weights = []\n",
    "        biases = []\n",
    "        num_layers = len(layers) \n",
    "        for l in range(0,num_layers-1):\n",
    "            W = self.xavier_init(size=[layers[l], layers[l+1]])\n",
    "            b = tf.Variable(tf.zeros([1,layers[l+1]], dtype=tf.float64), dtype=tf.float64)\n",
    "            weights.append(W)\n",
    "            biases.append(b)        \n",
    "        return weights, biases\n",
    "        \n",
    "    def xavier_init(self, size):\n",
    "        in_dim = size[0]\n",
    "        out_dim = size[1]        \n",
    "        xavier_stddev = np.sqrt(2/(in_dim + out_dim))\n",
    "        return tf.Variable(tf.truncated_normal([in_dim, out_dim], stddev=xavier_stddev, dtype=tf.float64))\n",
    "    \n",
    "\n",
    "        \n",
    "        \n",
    "    def neural_net(self, x,t, weights, biases):\n",
    "        num_layers = len(weights) + 1\n",
    "        t = 2*t \n",
    "        x = (x+1)/2\n",
    "        H=tf.concat([t,x],1)\n",
    "        for l in range(0,num_layers-2):\n",
    "            W = weights[l]\n",
    "            b = biases[l]\n",
    "            H = tf.tanh(tf.add(tf.matmul(H, W), b))\n",
    "        W = weights[-1]\n",
    "        b = biases[-1]\n",
    "        Y = tf.add(tf.matmul(H, W), b)\n",
    "        return Y\n",
    "    \n",
    "    def net_AC(self, x, t):\n",
    "        \n",
    "        u = self.neural_net(x,t, self.weights, self.biases)\n",
    "        u_x = tf.gradients(u, x)[0]\n",
    "        u_t = tf.gradients(u, t)[0]\n",
    "\n",
    "        return u, u_x, u_t\n",
    "    \n",
    "    \n",
    "\n",
    "    def net_f(self, x, t):\n",
    "        u, u_x, u_t = self.net_AC(x, t)\n",
    "        \n",
    "        u_xx = tf.gradients(u_x, x)[0]\n",
    "        u_xxx = tf.gradients(u_xx, x)[0]            \n",
    "        a=5.0\n",
    "        b=0.5\n",
    "        c=0.005\n",
    "        \n",
    "        f_u = u_t +  u*u_x + 0.0025*u_xxx\n",
    "        \n",
    "        return f_u\n",
    "    \n",
    "    def callback(self, loss, lossfu, lossS, lossB):\n",
    "        sss=self.hsadasjd\n",
    "        if sss%1000==0:\n",
    "            print('Loss: %.6e, Lossfu: %.3e, LossS: %.3e, LossB: %.3e ' % (loss, lossfu, lossS, lossB))\n",
    "        sss=sss+1\n",
    "        self.hsadasjd=sss \n",
    "        \n",
    "    def train(self, nIter, Nf, Nn, Nb):\n",
    "\n",
    "        X_train = self.lb + (self.ubp-self.lb)*lhs(2, Nf)\n",
    "        self.xtrain_f = X_train[:,0:1]\n",
    "        self.ttrain_f = X_train[:,1:2] \n",
    "        \n",
    "        X_lb_train = self.lb + [0,self.ubp[1]-self.lb[1]]*lhs(2, Nb)\n",
    "        self.xtrain_lb = X_lb_train[:,0:1]\n",
    "        self.ttrain_b = X_lb_train[:,1:2]\n",
    "        \n",
    "        X_ub_train = [self.ubp[0],self.lb[1]] + [0,self.ubp[1]-self.lb[1]]*lhs(2, Nb)\n",
    "        self.xtrain_ub = -1*X_lb_train[:,0:1]\n",
    "        \n",
    "        tf_dict = {self.x_tf: self.x, self.t_tf: self.t, self.u_tf: self.u,\n",
    "                   self.x_lb_tf: self.xtrain_lb, self.t_b_tf: self.ttrain_b, \n",
    "                   self.x_ub_tf: self.xtrain_ub, \n",
    "                   self.x_f_tf: self.xtrain_f, self.t_f_tf: self.ttrain_f}\n",
    "\n",
    "        for it in range(nIter):\n",
    "            loss_value = self.sess.run(self.loss, tf_dict)\n",
    "            lossfu = self.sess.run(self.lossfu, tf_dict)\n",
    "            lossS = self.sess.run(self.lossS, tf_dict)\n",
    "            lossB = self.sess.run(self.lossB, tf_dict)\n",
    "            #print('It: %d, Loss: %.6e, Lossfu: %.3e, LossS: %.3e, LossB: %.3e' % (it, loss_value, lossfu, lossS, lossB))\n",
    "            self.sess.run(self.train_op_Adam, tf_dict)\n",
    "            if it % 1000 == 0:\n",
    "                print('It: %d, Loss: %.6e, Lossfu: %.3e, LossS: %.3e, LossB: %.3e' % (it, loss_value, lossfu, lossS, lossB))\n",
    "        \n",
    "        # L-BFGS optimizer    \n",
    "        self.optimizer = tf.contrib.opt.ScipyOptimizerInterface(self.loss, method = 'L-BFGS-B', options = {'maxiter': 50000,\n",
    "                                                                           'maxfun': 50000, 'maxcor': 50, 'maxls': 50, 'ftol' : 1.0 * np.finfo(float).eps})                                                                                                         \n",
    "        self.optimizer.minimize(self.sess, feed_dict = tf_dict,fetches = [self.loss, self.lossfu, self.lossS, self.lossB],loss_callback = self.callback)        \n",
    "                                    \n",
    "    \n",
    "    def predict(self, x, t):\n",
    "        \n",
    "        tf_dict = {self.x_tf: x, self.t_tf: t}\n",
    "        u_star = self.sess.run(self.u_pred, tf_dict)\n",
    "        \n",
    "        return u_star\n",
    "\n",
    "    def saver(self, string):\n",
    "        self.save.save(self.sess, 'ckpt/'+string)\n",
    "        \n",
    "    def restore(self):\n",
    "        model_file = tf.train.latest_checkpoint('ckpt/')\n",
    "        self.save.restore(self.sess, model_file)"
   ]
  },
  {
   "cell_type": "code",
   "execution_count": 4,
   "id": "d384d6d8",
   "metadata": {
    "ExecuteTime": {
     "end_time": "2024-06-12T09:01:03.974039Z",
     "start_time": "2024-06-12T08:00:31.793200Z"
    },
    "scrolled": false
   },
   "outputs": [
    {
     "name": "stdout",
     "output_type": "stream",
     "text": [
      "WARNING:tensorflow:From D:\\anaconda\\envs\\tf\\lib\\site-packages\\tensorflow\\python\\framework\\op_def_library.py:263: colocate_with (from tensorflow.python.framework.ops) is deprecated and will be removed in a future version.\n",
      "Instructions for updating:\n",
      "Colocations handled automatically by placer.\n",
      "WARNING:tensorflow:From D:\\anaconda\\envs\\tf\\lib\\site-packages\\tensorflow\\python\\ops\\math_ops.py:3066: to_int32 (from tensorflow.python.ops.math_ops) is deprecated and will be removed in a future version.\n",
      "Instructions for updating:\n",
      "Use tf.cast instead.\n",
      "It: 0, Loss: 5.046631e+01, Lossfu: 2.654e-01, LossS: 5.020e-01, LossB: 5.643e-04\n",
      "It: 1000, Loss: 3.657033e-01, Lossfu: 3.384e-01, LossS: 2.528e-04, LossB: 2.027e-03\n",
      "It: 2000, Loss: 2.441434e-01, Lossfu: 2.290e-01, LossS: 1.438e-04, LossB: 7.427e-04\n",
      "It: 3000, Loss: 1.638121e-01, Lossfu: 1.534e-01, LossS: 1.001e-04, LossB: 4.044e-04\n",
      "It: 4000, Loss: 8.330039e-02, Lossfu: 7.874e-02, LossS: 4.341e-05, LossB: 2.161e-04\n",
      "\n",
      "WARNING: The TensorFlow contrib module will not be included in TensorFlow 2.0.\n",
      "For more information, please see:\n",
      "  * https://github.com/tensorflow/community/blob/master/rfcs/20180907-contrib-sunset.md\n",
      "  * https://github.com/tensorflow/addons\n",
      "If you depend on functionality not listed there, please file an issue.\n",
      "\n",
      "Loss: 5.729533e-02, Lossfu: 5.421e-02, LossS: 2.816e-05, LossB: 2.672e-04 \n",
      "Loss: 5.639291e-03, Lossfu: 5.309e-03, LossS: 2.247e-06, LossB: 1.061e-04 \n",
      "Loss: 1.788743e-03, Lossfu: 1.634e-03, LossS: 7.486e-07, LossB: 7.963e-05 \n",
      "Loss: 9.501160e-04, Lossfu: 8.097e-04, LossS: 3.755e-07, LossB: 1.029e-04 \n",
      "Loss: 4.985854e-04, Lossfu: 4.617e-04, LossS: 1.560e-07, LossB: 2.128e-05 \n",
      "Loss: 3.558103e-04, Lossfu: 3.203e-04, LossS: 1.781e-07, LossB: 1.771e-05 \n",
      "Loss: 2.723362e-04, Lossfu: 2.499e-04, LossS: 1.577e-07, LossB: 6.677e-06 \n",
      "Loss: 2.087328e-04, Lossfu: 1.929e-04, LossS: 1.220e-07, LossB: 3.683e-06 \n",
      "Loss: 1.701958e-04, Lossfu: 1.598e-04, LossS: 7.397e-08, LossB: 3.018e-06 \n",
      "Loss: 1.427212e-04, Lossfu: 1.338e-04, LossS: 5.809e-08, LossB: 3.080e-06 \n",
      "Loss: 1.269955e-04, Lossfu: 1.186e-04, LossS: 3.436e-08, LossB: 4.956e-06 \n",
      "Loss: 1.141817e-04, Lossfu: 1.059e-04, LossS: 2.915e-08, LossB: 5.317e-06 \n",
      "Loss: 1.016475e-04, Lossfu: 9.491e-05, LossS: 1.909e-08, LossB: 4.828e-06 \n",
      "Loss: 8.836151e-05, Lossfu: 8.320e-05, LossS: 1.768e-08, LossB: 3.389e-06 \n",
      "Loss: 7.891135e-05, Lossfu: 7.345e-05, LossS: 2.947e-08, LossB: 2.516e-06 \n",
      "Loss: 7.246458e-05, Lossfu: 6.784e-05, LossS: 2.233e-08, LossB: 2.387e-06 \n",
      "Loss: 6.731565e-05, Lossfu: 6.317e-05, LossS: 1.998e-08, LossB: 2.143e-06 \n",
      "Loss: 5.986965e-05, Lossfu: 5.449e-05, LossS: 3.372e-08, LossB: 2.012e-06 \n",
      "Loss: 5.535737e-05, Lossfu: 5.002e-05, LossS: 3.476e-08, LossB: 1.857e-06 \n",
      "Loss: 5.124443e-05, Lossfu: 4.698e-05, LossS: 2.741e-08, LossB: 1.526e-06 \n",
      "Loss: 4.851118e-05, Lossfu: 4.453e-05, LossS: 2.591e-08, LossB: 1.388e-06 \n",
      "Loss: 4.505734e-05, Lossfu: 4.127e-05, LossS: 2.198e-08, LossB: 1.589e-06 \n",
      "Loss: 4.195830e-05, Lossfu: 3.790e-05, LossS: 2.602e-08, LossB: 1.452e-06 \n",
      "Loss: 3.886292e-05, Lossfu: 3.486e-05, LossS: 2.331e-08, LossB: 1.669e-06 \n",
      "Loss: 3.492611e-05, Lossfu: 3.117e-05, LossS: 2.104e-08, LossB: 1.650e-06 \n",
      "Loss: 3.157999e-05, Lossfu: 2.888e-05, LossS: 1.532e-08, LossB: 1.167e-06 \n",
      "Loss: 2.898253e-05, Lossfu: 2.648e-05, LossS: 1.374e-08, LossB: 1.125e-06 \n",
      "Loss: 2.668432e-05, Lossfu: 2.406e-05, LossS: 1.528e-08, LossB: 1.101e-06 \n",
      "Loss: 2.480993e-05, Lossfu: 2.286e-05, LossS: 8.233e-09, LossB: 1.128e-06 \n",
      "Loss: 2.303195e-05, Lossfu: 2.116e-05, LossS: 6.165e-09, LossB: 1.260e-06 \n",
      "Loss: 2.161815e-05, Lossfu: 1.990e-05, LossS: 6.659e-09, LossB: 1.050e-06 \n",
      "Loss: 2.059820e-05, Lossfu: 1.896e-05, LossS: 6.022e-09, LossB: 1.038e-06 \n",
      "Loss: 1.952662e-05, Lossfu: 1.794e-05, LossS: 5.255e-09, LossB: 1.056e-06 \n",
      "Loss: 1.880720e-05, Lossfu: 1.731e-05, LossS: 4.526e-09, LossB: 1.043e-06 \n",
      "Loss: 1.787440e-05, Lossfu: 1.620e-05, LossS: 5.226e-09, LossB: 1.149e-06 \n",
      "Loss: 1.681106e-05, Lossfu: 1.531e-05, LossS: 5.219e-09, LossB: 9.825e-07 \n",
      "Loss: 1.624629e-05, Lossfu: 1.495e-05, LossS: 4.661e-09, LossB: 8.312e-07 \n",
      "Loss: 1.555716e-05, Lossfu: 1.442e-05, LossS: 4.152e-09, LossB: 7.205e-07 \n",
      "Loss: 1.481414e-05, Lossfu: 1.369e-05, LossS: 4.954e-09, LossB: 6.246e-07 \n",
      "Loss: 1.425044e-05, Lossfu: 1.336e-05, LossS: 4.518e-09, LossB: 4.382e-07 \n",
      "Loss: 1.351513e-05, Lossfu: 1.270e-05, LossS: 4.851e-09, LossB: 3.315e-07 \n",
      "Loss: 1.296368e-05, Lossfu: 1.232e-05, LossS: 3.798e-09, LossB: 2.659e-07 \n",
      "Loss: 1.221920e-05, Lossfu: 1.164e-05, LossS: 3.751e-09, LossB: 1.993e-07 \n",
      "Loss: 1.188937e-05, Lossfu: 1.135e-05, LossS: 3.713e-09, LossB: 1.692e-07 \n",
      "Loss: 1.159714e-05, Lossfu: 1.106e-05, LossS: 3.722e-09, LossB: 1.633e-07 \n",
      "Loss: 1.134665e-05, Lossfu: 1.082e-05, LossS: 3.729e-09, LossB: 1.565e-07 \n",
      "Loss: 1.109663e-05, Lossfu: 1.050e-05, LossS: 3.925e-09, LossB: 1.998e-07 \n",
      "Loss: 1.079060e-05, Lossfu: 1.022e-05, LossS: 3.368e-09, LossB: 2.306e-07 \n",
      "Loss: 1.050197e-05, Lossfu: 9.850e-06, LossS: 3.722e-09, LossB: 2.800e-07 \n",
      "Loss: 1.034298e-05, Lossfu: 9.619e-06, LossS: 3.991e-09, LossB: 3.249e-07 \n",
      "Loss: 1.017521e-05, Lossfu: 9.472e-06, LossS: 3.562e-09, LossB: 3.469e-07 \n",
      "INFO:tensorflow:Optimization terminated with:\n",
      "  Message: b'STOP: TOTAL NO. of f AND g EVALUATIONS EXCEEDS LIMIT'\n",
      "  Objective function value: 0.000010\n",
      "  Number of iterations: 45426\n",
      "  Number of functions evaluations: 50001\n",
      "randorm seed: 1234\n",
      "Training error in pre-training interval:(0.00,0.50)\n",
      "Error2 u: 9.171897e-04\n",
      "Error1 u: 4.717081e-04\n",
      "Errorf u: 3.023703e-03\n"
     ]
    }
   ],
   "source": [
    "if __name__ == \"__main__\": \n",
    "           \n",
    "    lb = np.array([-1.0, 0])\n",
    "    ub = np.array([1.0, 1])\n",
    "\n",
    "    # Pre-training interval\n",
    "    ubp = np.array([1.0,0.5])\n",
    "    \n",
    "    layers = [2,30,30,30,1]\n",
    "    \n",
    "    data = scipy.io.loadmat('kdv.mat')\n",
    "    \n",
    "    t = data['t'].flatten()[:,None][0:101] \n",
    "    x = data['x'].flatten()[:,None]\n",
    "    Exact = data['usol'][:,0:101]\n",
    "    \n",
    "    \n",
    "    X, T = np.meshgrid(x,t)\n",
    "    X_star = np.hstack((X.flatten()[:,None], T.flatten()[:,None]))\n",
    "    u_star = Exact.T.flatten()[:,None]\n",
    "\n",
    "    def IC(x):\n",
    "        u = np.cos(np.pi*x)\n",
    "        return u\n",
    "\n",
    "    N0 = 400\n",
    "    x=np.linspace(-1,1,N0).flatten()[:,None]  \n",
    "    X0 =x\n",
    "    T0 = np.full((N0,1), lb[1])\n",
    "    U0 = IC(X0)\n",
    "      \n",
    "    model = PtPINN(X0, T0, U0, lb, ub, ubp, layers)                          \n",
    "\n",
    "    model.train(5000,4000, 400, 400)    \n",
    "    \n",
    "\n",
    "\n",
    "    u_pred = model.predict(X_star[:,0:1],X_star[:,1:2])\n",
    "\n",
    "    erroru = np.linalg.norm(u_star - u_pred, 2) / np.linalg.norm(u_star, 2)\n",
    "    erroru1 = np.linalg.norm(u_star-u_pred,1)/len(X_star)\n",
    "    erroruinf = np.linalg.norm(u_star-u_pred,np.inf)\n",
    "    \n",
    "    print('randorm seed: %d' % (RandomSeed))\n",
    "    print('Training error in pre-training interval:(%.2f,%.2f)' % (lb[1], ubp[1]) ) \n",
    "    print('Error2 u: %e' % (erroru))\n",
    "    print('Error1 u: %e' % (erroru1))\n",
    "    print('Errorf u: %e' % (erroruinf))"
   ]
  },
  {
   "cell_type": "code",
   "execution_count": 12,
   "id": "03db7e97",
   "metadata": {
    "ExecuteTime": {
     "end_time": "2024-06-12T09:11:48.333950Z",
     "start_time": "2024-06-12T09:11:48.328949Z"
    }
   },
   "outputs": [],
   "source": [
    "weights_values = model.sess.run(model.weights)\n",
    "biases_values = model.sess.run(model.biases)"
   ]
  },
  {
   "cell_type": "code",
   "execution_count": 13,
   "id": "99facc06",
   "metadata": {
    "ExecuteTime": {
     "end_time": "2024-06-12T09:11:48.524830Z",
     "start_time": "2024-06-12T09:11:48.508830Z"
    }
   },
   "outputs": [],
   "source": [
    "import pickle"
   ]
  },
  {
   "cell_type": "code",
   "execution_count": 14,
   "id": "f17462f5",
   "metadata": {
    "ExecuteTime": {
     "end_time": "2024-06-12T09:11:48.715041Z",
     "start_time": "2024-06-12T09:11:48.699383Z"
    }
   },
   "outputs": [],
   "source": [
    "with open('bcweights.pkl', 'wb') as f:\n",
    "    pickle.dump(weights_values, f)"
   ]
  },
  {
   "cell_type": "code",
   "execution_count": 15,
   "id": "e6a2726c",
   "metadata": {
    "ExecuteTime": {
     "end_time": "2024-06-12T09:11:48.890353Z",
     "start_time": "2024-06-12T09:11:48.880353Z"
    }
   },
   "outputs": [],
   "source": [
    "with open('bcweights1.pkl', 'wb') as f:\n",
    "    pickle.dump(biases_values, f)"
   ]
  },
  {
   "cell_type": "code",
   "execution_count": 19,
   "id": "77a22f92",
   "metadata": {
    "ExecuteTime": {
     "end_time": "2024-06-12T09:13:47.608802Z",
     "start_time": "2024-06-12T09:13:47.560951Z"
    }
   },
   "outputs": [
    {
     "name": "stdout",
     "output_type": "stream",
     "text": [
      "randorm seed: 1234\n",
      "Error2 u: 9.171897e-04\n",
      "Error1 u: 4.717081e-04\n",
      "Errorf u: 3.023703e-03\n"
     ]
    }
   ],
   "source": [
    "    t = data['t'].flatten()[:,None][0:101] \n",
    "    x = data['x'].flatten()[:,None]\n",
    "    Exact = data['usol'][:,0:101]\n",
    "    \n",
    "    X, T = np.meshgrid(x,t)\n",
    "    X_star = np.hstack((X.flatten()[:,None], T.flatten()[:,None]))\n",
    "    u_star = Exact.T.flatten()[:,None]\n",
    "    u_pred = model.predict(X_star[:,0:1],X_star[:,1:2])\n",
    "\n",
    "    erroru = np.linalg.norm(u_star - u_pred, 2) / np.linalg.norm(u_star, 2)\n",
    "    erroru1 = np.linalg.norm(u_star-u_pred,1)/len(X_star)\n",
    "    erroruinf = np.linalg.norm(u_star-u_pred,np.inf)\n",
    "    \n",
    "    print('randorm seed: %d' % (RandomSeed))\n",
    "    print('Error2 u: %e' % (erroru))\n",
    "    print('Error1 u: %e' % (erroru1))\n",
    "    print('Errorf u: %e' % (erroruinf))\n",
    "    U_pred=u_pred.reshape(101,512).T\n",
    "    U_preds=U_pred"
   ]
  },
  {
   "cell_type": "code",
   "execution_count": 20,
   "id": "78f73915",
   "metadata": {
    "ExecuteTime": {
     "end_time": "2024-06-12T09:13:47.845803Z",
     "start_time": "2024-06-12T09:13:47.759803Z"
    }
   },
   "outputs": [
    {
     "name": "stdout",
     "output_type": "stream",
     "text": [
      "randorm seed: 1234\n",
      "Training error in pre-training interval:(0.00,0.50)\n",
      "Error2 u: 2.267236e-01\n",
      "Error1 u: 5.501783e-02\n",
      "Errorf u: 1.341288e+00\n"
     ]
    }
   ],
   "source": [
    "    t = data['t'].flatten()[:,None]\n",
    "    x = data['x'].flatten()[:,None]\n",
    "    Exact = data['usol']\n",
    "    \n",
    "    X, T = np.meshgrid(x,t)\n",
    "    X_star = np.hstack((X.flatten()[:,None], T.flatten()[:,None]))\n",
    "    u_star = Exact.T.flatten()[:,None]\n",
    "    u_pred = model.predict(X_star[:,0:1],X_star[:,1:2])\n",
    "\n",
    "    erroru = np.linalg.norm(u_star - u_pred, 2) / np.linalg.norm(u_star, 2)\n",
    "    erroru1 = np.linalg.norm(u_star-u_pred,1)/len(X_star)\n",
    "    erroruinf = np.linalg.norm(u_star-u_pred,np.inf)\n",
    "    \n",
    "    print('randorm seed: %d' % (RandomSeed))\n",
    "    print('Training error in pre-training interval:(%.2f,%.2f)' % (lb[1], ubp[1]) ) \n",
    "    print('Error2 u: %e' % (erroru))\n",
    "    print('Error1 u: %e' % (erroru1))\n",
    "    print('Errorf u: %e' % (erroruinf))"
   ]
  },
  {
   "cell_type": "code",
   "execution_count": 21,
   "id": "e65b59ab",
   "metadata": {
    "ExecuteTime": {
     "end_time": "2024-06-12T09:13:47.956802Z",
     "start_time": "2024-06-12T09:13:47.937803Z"
    }
   },
   "outputs": [],
   "source": [
    "    scipy.io.savemat(\"pretraining.mat\", {'u': u_pred})"
   ]
  },
  {
   "cell_type": "code",
   "execution_count": null,
   "id": "e49f9b63",
   "metadata": {},
   "outputs": [],
   "source": []
  },
  {
   "cell_type": "code",
   "execution_count": null,
   "id": "dd3c3b78",
   "metadata": {},
   "outputs": [],
   "source": []
  },
  {
   "cell_type": "code",
   "execution_count": null,
   "id": "bd617108",
   "metadata": {},
   "outputs": [],
   "source": []
  },
  {
   "cell_type": "code",
   "execution_count": null,
   "id": "6c5c386a",
   "metadata": {},
   "outputs": [],
   "source": []
  },
  {
   "cell_type": "code",
   "execution_count": null,
   "id": "727ed28d",
   "metadata": {},
   "outputs": [],
   "source": []
  },
  {
   "cell_type": "code",
   "execution_count": null,
   "id": "58192c8b",
   "metadata": {},
   "outputs": [],
   "source": []
  },
  {
   "cell_type": "code",
   "execution_count": null,
   "id": "5d102606",
   "metadata": {},
   "outputs": [],
   "source": []
  },
  {
   "cell_type": "code",
   "execution_count": null,
   "id": "c070a09c",
   "metadata": {},
   "outputs": [],
   "source": []
  },
  {
   "cell_type": "code",
   "execution_count": null,
   "id": "2c08aa4c",
   "metadata": {},
   "outputs": [],
   "source": []
  },
  {
   "cell_type": "code",
   "execution_count": null,
   "id": "24c65d16",
   "metadata": {},
   "outputs": [],
   "source": []
  },
  {
   "cell_type": "code",
   "execution_count": null,
   "id": "d384f32f",
   "metadata": {},
   "outputs": [],
   "source": []
  },
  {
   "cell_type": "code",
   "execution_count": null,
   "id": "0cb62461",
   "metadata": {},
   "outputs": [],
   "source": []
  },
  {
   "cell_type": "code",
   "execution_count": null,
   "id": "544885d1",
   "metadata": {},
   "outputs": [],
   "source": []
  }
 ],
 "metadata": {
  "kernelspec": {
   "display_name": "Python 3",
   "language": "python",
   "name": "python3"
  },
  "language_info": {
   "codemirror_mode": {
    "name": "ipython",
    "version": 3
   },
   "file_extension": ".py",
   "mimetype": "text/x-python",
   "name": "python",
   "nbconvert_exporter": "python",
   "pygments_lexer": "ipython3",
   "version": "3.6.13"
  }
 },
 "nbformat": 4,
 "nbformat_minor": 5
}
