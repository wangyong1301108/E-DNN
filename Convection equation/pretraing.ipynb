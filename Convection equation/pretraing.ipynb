{
 "cells": [
  {
   "cell_type": "code",
   "execution_count": 1,
   "id": "45a18da1",
   "metadata": {
    "ExecuteTime": {
     "end_time": "2024-06-07T03:11:32.267099Z",
     "start_time": "2024-06-07T03:11:30.968157Z"
    }
   },
   "outputs": [
    {
     "name": "stderr",
     "output_type": "stream",
     "text": [
      "D:\\anaconda\\envs\\tf\\lib\\site-packages\\tensorflow\\python\\framework\\dtypes.py:526: FutureWarning: Passing (type, 1) or '1type' as a synonym of type is deprecated; in a future version of numpy, it will be understood as (type, (1,)) / '(1,)type'.\n",
      "  _np_qint8 = np.dtype([(\"qint8\", np.int8, 1)])\n",
      "D:\\anaconda\\envs\\tf\\lib\\site-packages\\tensorflow\\python\\framework\\dtypes.py:527: FutureWarning: Passing (type, 1) or '1type' as a synonym of type is deprecated; in a future version of numpy, it will be understood as (type, (1,)) / '(1,)type'.\n",
      "  _np_quint8 = np.dtype([(\"quint8\", np.uint8, 1)])\n",
      "D:\\anaconda\\envs\\tf\\lib\\site-packages\\tensorflow\\python\\framework\\dtypes.py:528: FutureWarning: Passing (type, 1) or '1type' as a synonym of type is deprecated; in a future version of numpy, it will be understood as (type, (1,)) / '(1,)type'.\n",
      "  _np_qint16 = np.dtype([(\"qint16\", np.int16, 1)])\n",
      "D:\\anaconda\\envs\\tf\\lib\\site-packages\\tensorflow\\python\\framework\\dtypes.py:529: FutureWarning: Passing (type, 1) or '1type' as a synonym of type is deprecated; in a future version of numpy, it will be understood as (type, (1,)) / '(1,)type'.\n",
      "  _np_quint16 = np.dtype([(\"quint16\", np.uint16, 1)])\n",
      "D:\\anaconda\\envs\\tf\\lib\\site-packages\\tensorflow\\python\\framework\\dtypes.py:530: FutureWarning: Passing (type, 1) or '1type' as a synonym of type is deprecated; in a future version of numpy, it will be understood as (type, (1,)) / '(1,)type'.\n",
      "  _np_qint32 = np.dtype([(\"qint32\", np.int32, 1)])\n",
      "D:\\anaconda\\envs\\tf\\lib\\site-packages\\tensorflow\\python\\framework\\dtypes.py:535: FutureWarning: Passing (type, 1) or '1type' as a synonym of type is deprecated; in a future version of numpy, it will be understood as (type, (1,)) / '(1,)type'.\n",
      "  np_resource = np.dtype([(\"resource\", np.ubyte, 1)])\n",
      "D:\\anaconda\\envs\\tf\\lib\\_collections_abc.py:841: MatplotlibDeprecationWarning: Support for setting the 'text.latex.preamble' or 'pgf.preamble' rcParam to a list of strings is deprecated since 3.3 and will be removed two minor releases later; set it to a single string instead.\n",
      "  self[key] = other[key]\n"
     ]
    }
   ],
   "source": [
    "import sys\n",
    "sys.path.insert(0, '../../Utilities/')\n",
    "import tensorflow as tf\n",
    "import numpy as np\n",
    "import matplotlib.pyplot as plt\n",
    "import scipy.io\n",
    "from scipy.interpolate import griddata\n",
    "from pyDOE import lhs\n",
    "from plotting import newfig, savefig\n",
    "from mpl_toolkits.mplot3d import Axes3D\n",
    "import time\n",
    "import matplotlib.gridspec as gridspec\n",
    "from mpl_toolkits.axes_grid1 import make_axes_locatable\n",
    "import time\n",
    "import math"
   ]
  },
  {
   "cell_type": "code",
   "execution_count": 2,
   "id": "9d3deba7",
   "metadata": {
    "ExecuteTime": {
     "end_time": "2024-06-07T03:11:32.282754Z",
     "start_time": "2024-06-07T03:11:32.269099Z"
    }
   },
   "outputs": [],
   "source": [
    "import matplotlib as mpl\n",
    "mpl.rcParams.update(mpl.rcParamsDefault)\n",
    "RandomSeed = 1236\n",
    "np.random.seed(RandomSeed)\n",
    "tf.set_random_seed(RandomSeed)"
   ]
  },
  {
   "cell_type": "code",
   "execution_count": 3,
   "id": "0c8012de",
   "metadata": {
    "ExecuteTime": {
     "end_time": "2024-06-07T03:11:32.314058Z",
     "start_time": "2024-06-07T03:11:32.282754Z"
    }
   },
   "outputs": [],
   "source": [
    "class PtPINN:\n",
    "    def __init__(self, x, t, u, lb, ub, lb1, ub1,layers):\n",
    "        \n",
    "        X = np.concatenate([x, t], 1)\n",
    "\n",
    "        self.X = X\n",
    "        \n",
    "        self.x = X[:,0:1]\n",
    "        self.t = X[:,1:2]\n",
    "        \n",
    "        self.u = u\n",
    "        self.hsadasjd=0 \n",
    "        self.lb = lb\n",
    "        self.ub = ub\n",
    "        \n",
    "        self.lb1 = lb1\n",
    "        self.ub1 = ub1\n",
    "        \n",
    "        # Initialization\n",
    "        self.layers = layers\n",
    "        self.weights, self.biases = self.initialize_NN(layers) \n",
    "\n",
    "        self.sess = tf.Session(config=tf.ConfigProto(allow_soft_placement=True,\n",
    "                                                     log_device_placement=True))    \n",
    "\n",
    "        self.x_f_tf = tf.placeholder(tf.float64, shape=[None, self.x.shape[1]])\n",
    "        self.t_f_tf = tf.placeholder(tf.float64, shape=[None, self.t.shape[1]])\n",
    "        \n",
    "        self.x_lb_tf = tf.placeholder(tf.float64, shape=[None, self.x.shape[1]])\n",
    "        self.t_b_tf = tf.placeholder(tf.float64, shape=[None, self.t.shape[1]])\n",
    "        self.x_ub_tf = tf.placeholder(tf.float64, shape=[None, self.x.shape[1]])\n",
    "        self.x_tf = tf.placeholder(tf.float64, shape=[None, self.x.shape[1]])\n",
    "        self.t_tf = tf.placeholder(tf.float64, shape=[None, self.t.shape[1]])\n",
    "        self.u_tf = tf.placeholder(tf.float64, shape=[None, self.u.shape[1]])\n",
    "\n",
    "        self.u_pred, _, _ = self.net_CE(self.x_tf, self.t_tf)\n",
    "        self.u_lb_pred, _, _ = self.net_CE(self.x_lb_tf, self.t_b_tf)\n",
    "        self.u_ub_pred, _, _ = self.net_CE(self.x_ub_tf, self.t_b_tf)\n",
    "\n",
    "        self.f_pred = self.net_f(self.x_f_tf, self.t_f_tf)\n",
    "     \n",
    "\n",
    "        # Loss function(MSE)\n",
    "        \n",
    "        self.lossS = tf.reduce_mean(tf.square(self.u_tf - self.u_pred))\n",
    "                                              \n",
    "        self.lossB = tf.reduce_mean(tf.square(self.u_lb_pred - self.u_ub_pred))\n",
    "                                             \n",
    "        self.lossfu = tf.reduce_mean(tf.square(self.f_pred))    \n",
    "        \n",
    "        \n",
    "        \n",
    "    \n",
    "        self.optimizer_Adam = tf.train.AdamOptimizer()\n",
    "\n",
    "\n",
    "        \n",
    "        \n",
    "        self.loss  =  self.lossS + 20 * self.lossB + self.lossfu\n",
    "        \n",
    "        \n",
    "            \n",
    "        \n",
    "        self.train_op_Adam = self.optimizer_Adam.minimize(self.loss)      \n",
    "        \n",
    "      \n",
    "        \n",
    "        \n",
    "        self.sess = tf.Session(config=tf.ConfigProto(allow_soft_placement=True, log_device_placement=True))\n",
    "    \n",
    "        init = tf.global_variables_initializer()\n",
    "        self.sess.run(init)\n",
    "        self.save = tf.train.Saver(max_to_keep=1)\n",
    "              \n",
    "    def initialize_NN(self, layers):        \n",
    "        weights = []\n",
    "        biases = []\n",
    "        num_layers = len(layers) \n",
    "        for l in range(0,num_layers-1):\n",
    "            W = self.xavier_init(size=[layers[l], layers[l+1]])\n",
    "            b = tf.Variable(tf.zeros([1,layers[l+1]], dtype=tf.float64), dtype=tf.float64)\n",
    "            weights.append(W)\n",
    "            biases.append(b)        \n",
    "        return weights, biases\n",
    "        \n",
    "    def xavier_init(self, size):\n",
    "        in_dim = size[0]\n",
    "        out_dim = size[1]        \n",
    "        xavier_stddev = np.sqrt(2/(in_dim + out_dim))\n",
    "        return tf.Variable(tf.truncated_normal([in_dim, out_dim], stddev=xavier_stddev, dtype=tf.float64))\n",
    "    \n",
    "    def neural_net(self, X, weights, biases):\n",
    "        num_layers = len(weights) + 1\n",
    "        H = 2.0*(X - self.lb1)/(self.ub1 - self.lb1) - 1.0\n",
    "        for l in range(0,num_layers-2):\n",
    "            W = weights[l]\n",
    "            b = biases[l]\n",
    "            H = tf.tanh(tf.add(tf.matmul(H, W), b))\n",
    "        W = weights[-1]\n",
    "        b = biases[-1]\n",
    "        Y = tf.add(tf.matmul(H, W), b)\n",
    "        return Y\n",
    "\n",
    "    \n",
    "    \n",
    "    \n",
    "    \n",
    "    def net_CE(self, x, t):\n",
    "        X = tf.concat([x,t],1)\n",
    "        u = self.neural_net(X, self.weights, self.biases)\n",
    "        u_x = tf.gradients(u, x)[0]\n",
    "        u_t = tf.gradients(u, t)[0]\n",
    "        return u, u_x, u_t\n",
    "\n",
    "    \n",
    "    \n",
    "    \n",
    "    \n",
    "    def net_f(self, x, t):\n",
    "        u, u_x, u_t = self.net_CE(x, t)\n",
    "        f_u = u_t +40*u_x \n",
    "        return f_u\n",
    "    \n",
    " \n",
    "    \n",
    "    \n",
    "    def callback(self, loss, lossfu, lossS, lossB):\n",
    "        sss=self.hsadasjd\n",
    "        if sss%1000==0:\n",
    "            print('Loss: %.6e, Lossfu: %.3e, LossS: %.3e, LossB: %.3e ' % (loss, lossfu, lossS, lossB))\n",
    "        sss=sss+1\n",
    "        self.hsadasjd=sss \n",
    "        \n",
    "    def train(self, nIter, Nf, Nn, Nb):\n",
    "        # Resampling strategy\n",
    "        X_train = self.lb + (self.ub-self.lb)*lhs(2, Nf)\n",
    "        self.xtrain_f = X_train[:,0:1]\n",
    "        self.ttrain_f = X_train[:,1:2] \n",
    "        \n",
    "        X_lb_train = self.lb + [0,self.ub[1]-self.lb[1]]*lhs(2, Nb)\n",
    "        self.xtrain_lb = X_lb_train[:,0:1]\n",
    "        self.ttrain_b = X_lb_train[:,1:2]\n",
    "        \n",
    "        X_ub_train = [self.ub[0],0] + [0,self.ub[1]-self.lb[1]]*lhs(2, Nb)\n",
    "        self.xtrain_ub = X_ub_train[:,0:1]\n",
    "        \n",
    "        tf_dict = {self.x_tf: self.x, self.t_tf: self.t, self.u_tf: self.u,\n",
    "                   self.x_lb_tf: self.xtrain_lb, self.t_b_tf: self.ttrain_b, \n",
    "                   self.x_ub_tf: self.xtrain_ub, \n",
    "                   self.x_f_tf: self.xtrain_f, self.t_f_tf: self.ttrain_f}\n",
    "\n",
    "        start_time = time.time()\n",
    "        for it in range(nIter):\n",
    "            loss_value = self.sess.run(self.loss, tf_dict)\n",
    "            lossfu = self.sess.run(self.lossfu, tf_dict)\n",
    "            lossS = self.sess.run(self.lossS, tf_dict)\n",
    "            lossB = self.sess.run(self.lossB, tf_dict)\n",
    "            self.sess.run(self.train_op_Adam, tf_dict)\n",
    "            \n",
    "             # Print\n",
    "            if it % 1000 == 0:\n",
    "                print('It: %d, Loss: %.6e, Lossfu: %.3e, LossS: %.3e, LossB: %.3e' % (it, loss_value, lossfu, lossS, lossB))\n",
    "                \n",
    "                \n",
    "\n",
    "            \n",
    "        self.optimizer = tf.contrib.opt.ScipyOptimizerInterface(self.loss, method = 'L-BFGS-B', options = {'maxiter': 50000,'maxfun': 50000,'maxcor': 50,'maxls': 50,'ftol' : 1.0 * np.finfo(float).eps})                                                                                                         \n",
    "        self.optimizer.minimize(self.sess, feed_dict = tf_dict, fetches = [self.loss, self.lossfu, self.lossS, self.lossB], loss_callback = self.callback)        \n",
    "                                    \n",
    "    \n",
    "    def predict(self, x, t):\n",
    "        \n",
    "        tf_dict = {self.x_tf: x, self.t_tf: t}\n",
    "        u_star = self.sess.run(self.u_pred, tf_dict)\n",
    "        \n",
    "        return u_star\n",
    "\n",
    "    def saver(self, string):\n",
    "        self.save.save(self.sess, 'ckpt/'+string)\n",
    "\n",
    "    def restore(self):\n",
    "        model_file = tf.train.latest_checkpoint('ckpt/')\n",
    "        self.save.restore(self.sess, model_file)"
   ]
  },
  {
   "cell_type": "code",
   "execution_count": 4,
   "id": "fff8e5b8",
   "metadata": {
    "ExecuteTime": {
     "end_time": "2024-06-07T03:11:32.474097Z",
     "start_time": "2024-06-07T03:11:32.460098Z"
    }
   },
   "outputs": [],
   "source": [
    "if __name__ == \"__main__\": \n",
    "    # Doman bounds\n",
    "    lb = np.array([0, 0])\n",
    "    ub = np.array([2*np.pi, 0.5])\n",
    "    \n",
    "    lb1 = np.array([0, 0])\n",
    "    ub1 = np.array([2*np.pi, 0.5])    \n",
    "    \n",
    "    layers = [2,100,100,100,100,1]\n",
    "    \n",
    "    def Exact_Solution(x, t):\n",
    "        u = np.sin(x-40*t)\n",
    "        return u\n",
    "\n",
    "    Total_Num = 10000\n",
    "    x_star = np.random.rand(Total_Num, 1) * (ub[0]-lb[0]) + lb[0]\n",
    "    t_star = np.random.rand(Total_Num, 1) * (ub[1]-lb[1]) + lb[1]\n",
    "    N0 = 1200\n",
    "    x=np.linspace(0,2*np.pi,N0).flatten()[:,None]  \n",
    "    X0 =x\n",
    "    T0 = np.full((N0,1), lb[1])\n",
    "    u0 = Exact_Solution(X0,T0)"
   ]
  },
  {
   "cell_type": "code",
   "execution_count": 5,
   "id": "5bf1f485",
   "metadata": {
    "ExecuteTime": {
     "end_time": "2024-05-30T08:20:53.663028Z",
     "start_time": "2024-05-30T07:55:16.918440Z"
    },
    "scrolled": false
   },
   "outputs": [
    {
     "name": "stdout",
     "output_type": "stream",
     "text": [
      "WARNING:tensorflow:From D:\\anaconda\\envs\\tf\\lib\\site-packages\\tensorflow\\python\\framework\\op_def_library.py:263: colocate_with (from tensorflow.python.framework.ops) is deprecated and will be removed in a future version.\n",
      "Instructions for updating:\n",
      "Colocations handled automatically by placer.\n",
      "WARNING:tensorflow:From D:\\anaconda\\envs\\tf\\lib\\site-packages\\tensorflow\\python\\ops\\math_ops.py:3066: to_int32 (from tensorflow.python.ops.math_ops) is deprecated and will be removed in a future version.\n",
      "Instructions for updating:\n",
      "Use tf.cast instead.\n",
      "It: 0, Loss: 1.279672e+00, Lossfu: 7.293e-01, LossS: 4.995e-01, LossB: 2.547e-03\n",
      "It: 1000, Loss: 4.729461e-01, Lossfu: 4.072e-04, LossS: 4.526e-01, LossB: 9.947e-04\n",
      "It: 2000, Loss: 3.292213e-01, Lossfu: 2.719e-02, LossS: 2.245e-01, LossB: 3.876e-03\n",
      "It: 3000, Loss: 3.020018e-01, Lossfu: 3.040e-02, LossS: 1.290e-01, LossB: 7.128e-03\n",
      "It: 4000, Loss: 6.004288e-03, Lossfu: 7.492e-04, LossS: 2.915e-03, LossB: 1.170e-04\n",
      "\n",
      "WARNING: The TensorFlow contrib module will not be included in TensorFlow 2.0.\n",
      "For more information, please see:\n",
      "  * https://github.com/tensorflow/community/blob/master/rfcs/20180907-contrib-sunset.md\n",
      "  * https://github.com/tensorflow/addons\n",
      "If you depend on functionality not listed there, please file an issue.\n",
      "\n",
      "Loss: 2.432888e-03, Lossfu: 2.678e-04, LossS: 1.109e-03, LossB: 5.278e-05 \n",
      "Loss: 3.643012e-05, Lossfu: 8.386e-06, LossS: 1.120e-05, LossB: 8.424e-07 \n",
      "Loss: 8.923776e-06, Lossfu: 4.308e-06, LossS: 1.451e-06, LossB: 1.582e-07 \n",
      "Loss: 2.970603e-06, Lossfu: 1.292e-06, LossS: 1.593e-07, LossB: 7.595e-08 \n",
      "Loss: 2.005191e-06, Lossfu: 7.924e-07, LossS: 1.149e-07, LossB: 5.489e-08 \n",
      "Loss: 1.411078e-06, Lossfu: 4.760e-07, LossS: 7.082e-08, LossB: 4.321e-08 \n",
      "Loss: 9.988874e-07, Lossfu: 2.856e-07, LossS: 5.966e-08, LossB: 3.268e-08 \n",
      "Loss: 7.930802e-07, Lossfu: 2.345e-07, LossS: 7.335e-08, LossB: 2.426e-08 \n",
      "Loss: 6.435491e-07, Lossfu: 1.868e-07, LossS: 7.785e-08, LossB: 1.894e-08 \n",
      "Loss: 5.261780e-07, Lossfu: 1.896e-07, LossS: 7.556e-08, LossB: 1.305e-08 \n",
      "Loss: 4.065028e-07, Lossfu: 1.299e-07, LossS: 6.525e-08, LossB: 1.057e-08 \n",
      "Loss: 3.478407e-07, Lossfu: 1.065e-07, LossS: 7.306e-08, LossB: 8.414e-09 \n",
      "INFO:tensorflow:Optimization terminated with:\n",
      "  Message: b'CONVERGENCE: NORM_OF_PROJECTED_GRADIENT_<=_PGTOL'\n",
      "  Objective function value: 0.000000\n",
      "  Number of iterations: 11158\n",
      "  Number of functions evaluations: 11933\n"
     ]
    }
   ],
   "source": [
    "    model = PtPINN(X0, T0, u0, lb, ub, lb1, ub1, layers)                       \n",
    "    model.train(5000, 5000, 1200, 1200)"
   ]
  },
  {
   "cell_type": "code",
   "execution_count": 11,
   "id": "7b011299",
   "metadata": {
    "ExecuteTime": {
     "end_time": "2024-05-30T08:22:44.211526Z",
     "start_time": "2024-05-30T08:22:41.837679Z"
    }
   },
   "outputs": [
    {
     "name": "stdout",
     "output_type": "stream",
     "text": [
      "二范数Error u: 3.979398e-04\n",
      "平均绝对Error u: 2.394529e-04\n",
      "无穷范数Error u: 7.269167e-04\n"
     ]
    }
   ],
   "source": [
    "    x=np.linspace(0,2*np.pi,1200).flatten()[:,None]   \n",
    "    t=np.linspace(0,0.5,1200).flatten()[:,None]  \n",
    "    X, T = np.meshgrid(x, t)\n",
    "    X_star = np.hstack((X.flatten()[:,None], T.flatten()[:,None]))\n",
    "    u_pred1=model.predict(X_star[:,0:1],X_star[:,1:2])\n",
    "    u_star1 = Exact_Solution(X_star[:,0:1],X_star[:,1:2])\n",
    "    u_star=u_star1.flatten()[:,None]  \n",
    "    u_pred=u_pred1.flatten()[:,None] \n",
    "    error_u1 = np.linalg.norm(u_star-u_pred,2)/np.linalg.norm(u_star,2)\n",
    "    error_u2 = np.linalg.norm(u_star-u_pred,1)/len(u_star)\n",
    "    error_u3 = np.linalg.norm(u_star-u_pred,np.inf)\n",
    "    print('二范数Error u: %e' % (error_u1))\n",
    "    print('平均绝对Error u: %e' % (error_u2))\n",
    "    print('无穷范数Error u: %e' % (error_u3))"
   ]
  },
  {
   "cell_type": "code",
   "execution_count": 12,
   "id": "04058040",
   "metadata": {
    "ExecuteTime": {
     "end_time": "2024-05-30T08:22:50.005875Z",
     "start_time": "2024-05-30T08:22:47.514551Z"
    }
   },
   "outputs": [
    {
     "name": "stdout",
     "output_type": "stream",
     "text": [
      "二范数Error u: 1.053037e+00\n",
      "平均绝对Error u: 5.777050e-01\n",
      "无穷范数Error u: 1.475825e+00\n"
     ]
    }
   ],
   "source": [
    "    x=np.linspace(0,2*np.pi,1200).flatten()[:,None]   \n",
    "    t=np.linspace(0.5,1.0,1200).flatten()[:,None]  \n",
    "    X, T = np.meshgrid(x, t)\n",
    "    X_star = np.hstack((X.flatten()[:,None], T.flatten()[:,None]))\n",
    "    u_pred1=model.predict(X_star[:,0:1],X_star[:,1:2])\n",
    "    u_star1 = Exact_Solution(X_star[:,0:1],X_star[:,1:2])\n",
    "    u_star=u_star1.flatten()[:,None]  \n",
    "    u_pred=u_pred1.flatten()[:,None] \n",
    "    error_u1 = np.linalg.norm(u_star-u_pred,2)/np.linalg.norm(u_star,2)\n",
    "    error_u2 = np.linalg.norm(u_star-u_pred,1)/len(u_star)\n",
    "    error_u3 = np.linalg.norm(u_star-u_pred,np.inf)\n",
    "    print('二范数Error u: %e' % (error_u1))\n",
    "    print('平均绝对Error u: %e' % (error_u2))\n",
    "    print('无穷范数Error u: %e' % (error_u3))"
   ]
  },
  {
   "cell_type": "code",
   "execution_count": 13,
   "id": "f3b6f9e2",
   "metadata": {
    "ExecuteTime": {
     "end_time": "2024-05-30T08:22:52.412426Z",
     "start_time": "2024-05-30T08:22:50.006875Z"
    }
   },
   "outputs": [
    {
     "name": "stdout",
     "output_type": "stream",
     "text": [
      "二范数Error u: 7.448194e-01\n",
      "平均绝对Error u: 2.891192e-01\n",
      "无穷范数Error u: 1.475814e+00\n"
     ]
    }
   ],
   "source": [
    "    x=np.linspace(0,2*np.pi,1200).flatten()[:,None]   \n",
    "    t=np.linspace(0,1.0,1200).flatten()[:,None]  \n",
    "    X, T = np.meshgrid(x, t)\n",
    "    X_star = np.hstack((X.flatten()[:,None], T.flatten()[:,None]))\n",
    "    u_pred1=model.predict(X_star[:,0:1],X_star[:,1:2])\n",
    "    u_star1 = Exact_Solution(X_star[:,0:1],X_star[:,1:2])\n",
    "    u_star=u_star1.flatten()[:,None]  \n",
    "    u_pred=u_pred1.flatten()[:,None] \n",
    "    error_u1 = np.linalg.norm(u_star-u_pred,2)/np.linalg.norm(u_star,2)\n",
    "    error_u2 = np.linalg.norm(u_star-u_pred,1)/len(u_star)\n",
    "    error_u3 = np.linalg.norm(u_star-u_pred,np.inf)\n",
    "    print('二范数Error u: %e' % (error_u1))\n",
    "    print('平均绝对Error u: %e' % (error_u2))\n",
    "    print('无穷范数Error u: %e' % (error_u3))"
   ]
  },
  {
   "cell_type": "code",
   "execution_count": 16,
   "id": "bd76d52e",
   "metadata": {
    "ExecuteTime": {
     "end_time": "2024-05-30T08:22:58.647696Z",
     "start_time": "2024-05-30T08:22:58.632635Z"
    }
   },
   "outputs": [],
   "source": [
    "    scipy.io.savemat(\"pretraining.mat\", {'u': u_pred})"
   ]
  },
  {
   "cell_type": "code",
   "execution_count": 17,
   "id": "e6bc3c2f",
   "metadata": {
    "ExecuteTime": {
     "end_time": "2024-05-30T08:22:58.820680Z",
     "start_time": "2024-05-30T08:22:58.815028Z"
    }
   },
   "outputs": [],
   "source": [
    "weights_values = model.sess.run(model.weights)\n",
    "biases_values = model.sess.run(model.biases)\n",
    "import pickle\n",
    "with open('weights.pkl', 'wb') as f:\n",
    "    pickle.dump(weights_values, f)\n",
    "with open('weights1.pkl', 'wb') as f:\n",
    "    pickle.dump(biases_values, f)"
   ]
  },
  {
   "cell_type": "code",
   "execution_count": null,
   "id": "69951521",
   "metadata": {},
   "outputs": [],
   "source": []
  },
  {
   "cell_type": "code",
   "execution_count": null,
   "id": "fbf36f24",
   "metadata": {},
   "outputs": [],
   "source": []
  },
  {
   "cell_type": "code",
   "execution_count": null,
   "id": "1cda4814",
   "metadata": {},
   "outputs": [],
   "source": []
  }
 ],
 "metadata": {
  "kernelspec": {
   "display_name": "tfcpu",
   "language": "python",
   "name": "tf"
  },
  "language_info": {
   "codemirror_mode": {
    "name": "ipython",
    "version": 3
   },
   "file_extension": ".py",
   "mimetype": "text/x-python",
   "name": "python",
   "nbconvert_exporter": "python",
   "pygments_lexer": "ipython3",
   "version": "3.6.13"
  }
 },
 "nbformat": 4,
 "nbformat_minor": 5
}
