{
 "cells": [
  {
   "cell_type": "code",
   "execution_count": 1,
   "id": "e2e833b0",
   "metadata": {
    "ExecuteTime": {
     "end_time": "2024-09-12T14:14:23.620594Z",
     "start_time": "2024-09-12T14:14:22.944348Z"
    }
   },
   "outputs": [
    {
     "name": "stderr",
     "output_type": "stream",
     "text": [
      "D:\\anaconda\\envs\\tf\\lib\\site-packages\\tensorflow\\python\\framework\\dtypes.py:526: FutureWarning: Passing (type, 1) or '1type' as a synonym of type is deprecated; in a future version of numpy, it will be understood as (type, (1,)) / '(1,)type'.\n",
      "  _np_qint8 = np.dtype([(\"qint8\", np.int8, 1)])\n",
      "D:\\anaconda\\envs\\tf\\lib\\site-packages\\tensorflow\\python\\framework\\dtypes.py:527: FutureWarning: Passing (type, 1) or '1type' as a synonym of type is deprecated; in a future version of numpy, it will be understood as (type, (1,)) / '(1,)type'.\n",
      "  _np_quint8 = np.dtype([(\"quint8\", np.uint8, 1)])\n",
      "D:\\anaconda\\envs\\tf\\lib\\site-packages\\tensorflow\\python\\framework\\dtypes.py:528: FutureWarning: Passing (type, 1) or '1type' as a synonym of type is deprecated; in a future version of numpy, it will be understood as (type, (1,)) / '(1,)type'.\n",
      "  _np_qint16 = np.dtype([(\"qint16\", np.int16, 1)])\n",
      "D:\\anaconda\\envs\\tf\\lib\\site-packages\\tensorflow\\python\\framework\\dtypes.py:529: FutureWarning: Passing (type, 1) or '1type' as a synonym of type is deprecated; in a future version of numpy, it will be understood as (type, (1,)) / '(1,)type'.\n",
      "  _np_quint16 = np.dtype([(\"quint16\", np.uint16, 1)])\n",
      "D:\\anaconda\\envs\\tf\\lib\\site-packages\\tensorflow\\python\\framework\\dtypes.py:530: FutureWarning: Passing (type, 1) or '1type' as a synonym of type is deprecated; in a future version of numpy, it will be understood as (type, (1,)) / '(1,)type'.\n",
      "  _np_qint32 = np.dtype([(\"qint32\", np.int32, 1)])\n",
      "D:\\anaconda\\envs\\tf\\lib\\site-packages\\tensorflow\\python\\framework\\dtypes.py:535: FutureWarning: Passing (type, 1) or '1type' as a synonym of type is deprecated; in a future version of numpy, it will be understood as (type, (1,)) / '(1,)type'.\n",
      "  np_resource = np.dtype([(\"resource\", np.ubyte, 1)])\n"
     ]
    }
   ],
   "source": [
    "import tensorflow as tf\n",
    "import numpy as np\n",
    "import scipy.io\n",
    "from pyDOE import lhs\n",
    "import math"
   ]
  },
  {
   "cell_type": "code",
   "execution_count": 2,
   "id": "55a1306e",
   "metadata": {
    "ExecuteTime": {
     "end_time": "2024-09-12T14:14:23.636594Z",
     "start_time": "2024-09-12T14:14:23.621594Z"
    }
   },
   "outputs": [],
   "source": [
    "RandomSeed = 1236\n",
    "np.random.seed(RandomSeed)\n",
    "tf.set_random_seed(RandomSeed)"
   ]
  },
  {
   "cell_type": "code",
   "execution_count": 3,
   "id": "1163f461",
   "metadata": {
    "ExecuteTime": {
     "end_time": "2024-09-12T14:14:23.667594Z",
     "start_time": "2024-09-12T14:14:23.636594Z"
    }
   },
   "outputs": [],
   "source": [
    "class PtPINN:\n",
    "    def __init__(self, x, t, u, lb, ub, ubp, layers):\n",
    "        \n",
    "        X = np.concatenate([x, t], 1)\n",
    "\n",
    "        self.X = X\n",
    "        \n",
    "        self.x = X[:,0:1]\n",
    "        self.t = X[:,1:2]\n",
    "        \n",
    "        self.u = u\n",
    "        self.hsadasjd=0\n",
    "        self.lb = lb\n",
    "        self.ub = ub\n",
    "\n",
    "        self.ubp = ubp\n",
    "        \n",
    "        self.layers = layers\n",
    "        self.weights, self.biases = self.initialize_NN(layers)\n",
    "        \n",
    "        self.sess = tf.Session(config=tf.ConfigProto(allow_soft_placement=True, log_device_placement=True))    \n",
    "\n",
    "        self.x_f_tf = tf.placeholder(tf.float32, shape=[None, self.x.shape[1]])\n",
    "        self.t_f_tf = tf.placeholder(tf.float32, shape=[None, self.t.shape[1]])\n",
    "        \n",
    "        self.x_lb_tf = tf.placeholder(tf.float32, shape=[None, self.x.shape[1]])\n",
    "        self.t_b_tf = tf.placeholder(tf.float32, shape=[None, self.t.shape[1]])\n",
    "        self.x_ub_tf = tf.placeholder(tf.float32, shape=[None, self.x.shape[1]])\n",
    "        \n",
    "        self.x_tf = tf.placeholder(tf.float32, shape=[None, self.x.shape[1]])\n",
    "        self.t_tf = tf.placeholder(tf.float32, shape=[None, self.t.shape[1]])\n",
    "        \n",
    "        self.u_tf = tf.placeholder(tf.float32, shape=[None, self.u.shape[1]])\n",
    "\n",
    "        self.u_pred, _ ,_ = self.net_AC(self.x_tf, self.t_tf)\n",
    "        self.u_lb_pred, self.ux_lb_pred,_ = self.net_AC(self.x_lb_tf, self.t_b_tf)\n",
    "        self.u_ub_pred, self.ux_ub_pred,_ = self.net_AC(self.x_ub_tf, self.t_b_tf)\n",
    "\n",
    "        self.f_pred = self.net_f(self.x_f_tf, self.t_f_tf)\n",
    "        \n",
    "        \n",
    "        self.lossS = tf.reduce_mean(tf.square(self.u_tf - self.u_pred))\n",
    "                                              \n",
    "        self.lossB = tf.reduce_mean(tf.square(self.u_lb_pred - self.u_ub_pred)) + tf.reduce_mean(tf.square(self.ux_lb_pred - self.ux_ub_pred))\n",
    "                                             \n",
    "        self.lossfu = tf.reduce_mean(tf.square(self.f_pred))        \n",
    "        \n",
    "\n",
    "        self.optimizer_Adam = tf.train.AdamOptimizer()\n",
    "\n",
    "        \n",
    "        self.loss  =  64 * self.lossS  + self.lossfu\n",
    "    \n",
    "        self.train_op_Adam = self.optimizer_Adam.minimize(self.loss)      \n",
    "\n",
    "        self.sess = tf.Session(config=tf.ConfigProto(allow_soft_placement=True, log_device_placement=True))\n",
    "    \n",
    "        init = tf.global_variables_initializer()\n",
    "        self.sess.run(init)\n",
    "        self.save = tf.train.Saver(max_to_keep=1)\n",
    "              \n",
    "    def initialize_NN(self, layers):        \n",
    "        weights = []\n",
    "        biases = []\n",
    "        num_layers = len(layers) \n",
    "        for l in range(0,num_layers-1):\n",
    "            W = self.xavier_init(size=[layers[l], layers[l+1]])\n",
    "            b = tf.Variable(tf.zeros([1,layers[l+1]], dtype=tf.float32), dtype=tf.float32)\n",
    "            weights.append(W)\n",
    "            biases.append(b)        \n",
    "        return weights, biases\n",
    "        \n",
    "    def xavier_init(self, size):\n",
    "        in_dim = size[0]\n",
    "        out_dim = size[1]        \n",
    "        xavier_stddev = np.sqrt(2/(in_dim + out_dim))\n",
    "        return tf.Variable(tf.truncated_normal([in_dim, out_dim], stddev=xavier_stddev, dtype=tf.float32))\n",
    "    \n",
    "    \n",
    "    \n",
    "    def input_encoding(self, t, x):    \n",
    "        # 创建频率数组\n",
    "        pi_terms = tf.range(1, 11, dtype=tf.float32) * math.pi\n",
    "\n",
    "        # 计算cos和sin值\n",
    "        cos_vals = tf.cos(pi_terms * x)\n",
    "        sin_vals = tf.sin(pi_terms * x)\n",
    "\n",
    "        # 拼接成一个向量\n",
    "        H = tf.concat([t, 1 + 0 * tf.cos(math.pi * x), cos_vals, sin_vals], axis=1)\n",
    "\n",
    "        return H\n",
    "\n",
    "        \n",
    "        \n",
    "    def neural_net(self, x,t, weights, biases):\n",
    "        num_layers = len(weights) + 1\n",
    "        t = 2*t \n",
    "        H = self.input_encoding(t, x)\n",
    "        for l in range(0,num_layers-2):\n",
    "            W = weights[l]\n",
    "            b = biases[l]\n",
    "            H = tf.tanh(tf.add(tf.matmul(H, W), b))\n",
    "        W = weights[-1]\n",
    "        b = biases[-1]\n",
    "        Y = tf.add(tf.matmul(H, W), b)\n",
    "        return Y\n",
    "    \n",
    "    def net_AC(self, x, t):\n",
    "        \n",
    "        u = self.neural_net(x,t, self.weights, self.biases)\n",
    "        u_x = tf.gradients(u, x)[0]\n",
    "        u_t = tf.gradients(u, t)[0]\n",
    "\n",
    "        return u, u_x, u_t\n",
    "    \n",
    "    \n",
    "\n",
    "    def net_f(self, x, t):\n",
    "        u, u_x, u_t = self.net_AC(x, t)\n",
    "        \n",
    "        u_xx = tf.gradients(u_x, x)[0]\n",
    "        \n",
    "        f_u = u_t - 0.0001*u_xx+5*u**3-5*u\n",
    "        \n",
    "        return f_u\n",
    "    \n",
    "        \n",
    "    def train(self, nIter, Nf, Nb):\n",
    "\n",
    "        X_train = self.lb + (self.ubp-self.lb)*lhs(2, Nf)\n",
    "        self.xtrain_f = X_train[:,0:1]\n",
    "        self.ttrain_f = X_train[:,1:2] \n",
    "        \n",
    "        X_lb_train = self.lb + [0,self.ubp[1]-self.lb[1]]*lhs(2, Nb)  \n",
    "        self.xtrain_lb = X_lb_train[:,0:1]\n",
    "        self.ttrain_b = X_lb_train[:,1:2]\n",
    "    \n",
    "        self.xtrain_ub = -1*X_lb_train[:,0:1]\n",
    "        \n",
    "        tf_dict = {self.x_tf: self.x, self.t_tf: self.t, self.u_tf: self.u,\n",
    "                   self.x_lb_tf: self.xtrain_lb, self.t_b_tf: self.ttrain_b, \n",
    "                   self.x_ub_tf: self.xtrain_ub, \n",
    "                   self.x_f_tf: self.xtrain_f, self.t_f_tf: self.ttrain_f}\n",
    "\n",
    "        for it in range(nIter):\n",
    "            self.sess.run(self.train_op_Adam, tf_dict)     \n",
    "        # L-BFGS optimizer    \n",
    "        self.optimizer = tf.contrib.opt.ScipyOptimizerInterface(self.loss, method = 'L-BFGS-B', options = {'maxiter': 50000,\n",
    "                                                                           'maxfun': 50000, 'maxcor': 50, 'maxls': 50, 'ftol' : 1.0 * np.finfo(float).eps})                                                                                                         \n",
    "        self.optimizer.minimize(self.sess, feed_dict = tf_dict)        \n",
    "                                    \n",
    "    \n",
    "    def predict(self, x, t):\n",
    "        \n",
    "        tf_dict = {self.x_tf: x, self.t_tf: t}\n",
    "        u_star = self.sess.run(self.u_pred, tf_dict)\n",
    "        \n",
    "        return u_star\n",
    "\n",
    "    def saver(self, string):\n",
    "        self.save.save(self.sess, 'ckpt/'+string)\n",
    "        \n",
    "    def restore(self):\n",
    "        model_file = tf.train.latest_checkpoint('ckpt/')\n",
    "        self.save.restore(self.sess, model_file)"
   ]
  },
  {
   "cell_type": "code",
   "execution_count": 4,
   "id": "740fb944",
   "metadata": {
    "ExecuteTime": {
     "end_time": "2024-09-12T14:14:25.411362Z",
     "start_time": "2024-09-12T14:14:24.221320Z"
    }
   },
   "outputs": [
    {
     "name": "stdout",
     "output_type": "stream",
     "text": [
      "WARNING:tensorflow:From D:\\anaconda\\envs\\tf\\lib\\site-packages\\tensorflow\\python\\framework\\op_def_library.py:263: colocate_with (from tensorflow.python.framework.ops) is deprecated and will be removed in a future version.\n",
      "Instructions for updating:\n",
      "Colocations handled automatically by placer.\n",
      "WARNING:tensorflow:From D:\\anaconda\\envs\\tf\\lib\\site-packages\\tensorflow\\python\\ops\\math_ops.py:3066: to_int32 (from tensorflow.python.ops.math_ops) is deprecated and will be removed in a future version.\n",
      "Instructions for updating:\n",
      "Use tf.cast instead.\n"
     ]
    }
   ],
   "source": [
    "if __name__ == \"__main__\": \n",
    "           \n",
    "    lb = np.array([-1.0, 0])\n",
    "    ub = np.array([1.0, 1])\n",
    "\n",
    "\n",
    "    ubp = np.array([1.0,0.5])\n",
    "\n",
    "    \n",
    "    layers = [22, 50, 50, 50, 50, 1]\n",
    "    \n",
    "    data = scipy.io.loadmat('C:\\\\Users\\\\User\\\\Desktop\\\\data\\\\AC.mat')\n",
    "    \n",
    "    t = data['tt'].flatten()[:,None][0:101] \n",
    "    x = data['x'].flatten()[:,None]\n",
    "    Exact = data['uu'][:,0:101]\n",
    "    \n",
    "\n",
    "    \n",
    "    X, T = np.meshgrid(x,t)\n",
    "    X_star = np.hstack((X.flatten()[:,None], T.flatten()[:,None]))\n",
    "    u_star = Exact.T.flatten()[:,None]\n",
    "\n",
    "    def IC(x):\n",
    "        u = x**2*np.cos(np.pi*x)\n",
    "        return u\n",
    "\n",
    "    N0 = 200\n",
    "    x=np.linspace(-1,1,N0).flatten()[:,None]  \n",
    "    X0 =x\n",
    "    T0 = np.full((N0,1), lb[1])\n",
    "    U0 = IC(X0)\n",
    "      \n",
    "    model = PtPINN(X0, T0, U0, lb, ub, ubp, layers)                          \n",
    " "
   ]
  },
  {
   "cell_type": "code",
   "execution_count": 5,
   "id": "5a898b36",
   "metadata": {
    "ExecuteTime": {
     "end_time": "2024-09-12T14:20:27.530827Z",
     "start_time": "2024-09-12T14:14:25.411362Z"
    }
   },
   "outputs": [
    {
     "name": "stdout",
     "output_type": "stream",
     "text": [
      "\n",
      "WARNING: The TensorFlow contrib module will not be included in TensorFlow 2.0.\n",
      "For more information, please see:\n",
      "  * https://github.com/tensorflow/community/blob/master/rfcs/20180907-contrib-sunset.md\n",
      "  * https://github.com/tensorflow/addons\n",
      "If you depend on functionality not listed there, please file an issue.\n",
      "\n",
      "INFO:tensorflow:Optimization terminated with:\n",
      "  Message: b'CONVERGENCE: REL_REDUCTION_OF_F_<=_FACTR*EPSMCH'\n",
      "  Objective function value: 0.000002\n",
      "  Number of iterations: 8617\n",
      "  Number of functions evaluations: 9143\n"
     ]
    }
   ],
   "source": [
    "    model.train(5000, 5000, 200)    "
   ]
  },
  {
   "cell_type": "code",
   "execution_count": 6,
   "id": "c10612da",
   "metadata": {
    "ExecuteTime": {
     "end_time": "2024-09-12T14:20:27.610827Z",
     "start_time": "2024-09-12T14:20:27.531827Z"
    }
   },
   "outputs": [
    {
     "name": "stdout",
     "output_type": "stream",
     "text": [
      "randorm seed: 1236\n",
      "Training error in pre-training interval:(0.00,0.50)\n",
      "Error2 u: 5.478291e-04\n",
      "Error1 u: 1.855838e-04\n",
      "Errorf u: 3.767636e-03\n"
     ]
    }
   ],
   "source": [
    "    u_pred = model.predict(X_star[:,0:1],X_star[:,1:2])\n",
    "\n",
    "    erroru = np.linalg.norm(u_star - u_pred, 2) / np.linalg.norm(u_star, 2)\n",
    "    erroru1 = np.linalg.norm(u_star-u_pred,1)/len(X_star)\n",
    "    erroruinf = np.linalg.norm(u_star-u_pred,np.inf)\n",
    "    \n",
    "    print('randorm seed: %d' % (RandomSeed))\n",
    "    print('Training error in pre-training interval:(%.2f,%.2f)' % (lb[1], ubp[1]) ) \n",
    "    print('Error2 u: %e' % (erroru))\n",
    "    print('Error1 u: %e' % (erroru1))\n",
    "    print('Errorf u: %e' % (erroruinf))"
   ]
  },
  {
   "cell_type": "code",
   "execution_count": 7,
   "id": "274dd303",
   "metadata": {
    "ExecuteTime": {
     "end_time": "2024-09-12T14:20:27.690827Z",
     "start_time": "2024-09-12T14:20:27.611827Z"
    }
   },
   "outputs": [],
   "source": [
    "weights_values = model.sess.run(model.weights)\n",
    "biases_values = model.sess.run(model.biases)"
   ]
  },
  {
   "cell_type": "code",
   "execution_count": 8,
   "id": "0affb7a3",
   "metadata": {
    "ExecuteTime": {
     "end_time": "2024-09-12T14:20:27.706836Z",
     "start_time": "2024-09-12T14:20:27.691827Z"
    }
   },
   "outputs": [],
   "source": [
    "import pickle\n",
    "with open('bcweights.pkl', 'wb') as f:\n",
    "    pickle.dump(weights_values, f)\n",
    "with open('bcweights1.pkl', 'wb') as f:\n",
    "    pickle.dump(biases_values, f)"
   ]
  },
  {
   "cell_type": "code",
   "execution_count": 9,
   "id": "00ecb131",
   "metadata": {
    "ExecuteTime": {
     "end_time": "2024-09-12T14:20:27.738857Z",
     "start_time": "2024-09-12T14:20:27.707836Z"
    }
   },
   "outputs": [
    {
     "name": "stdout",
     "output_type": "stream",
     "text": [
      "randorm seed: 1236\n",
      "Training error in pre-training interval:(0.00,0.50)\n",
      "Error2 u: 5.478291e-04\n",
      "Error1 u: 1.855838e-04\n",
      "Errorf u: 3.767636e-03\n"
     ]
    }
   ],
   "source": [
    "    t = data['tt'].flatten()[:,None][0:101] \n",
    "    x = data['x'].flatten()[:,None]\n",
    "    Exact = data['uu'][:,0:101]\n",
    "    \n",
    "    X, T = np.meshgrid(x,t)\n",
    "    X_star = np.hstack((X.flatten()[:,None], T.flatten()[:,None]))\n",
    "    u_star = Exact.T.flatten()[:,None]\n",
    "    u_pred = model.predict(X_star[:,0:1],X_star[:,1:2])\n",
    "\n",
    "    erroru = np.linalg.norm(u_star - u_pred, 2) / np.linalg.norm(u_star, 2)\n",
    "    erroru1 = np.linalg.norm(u_star-u_pred,1)/len(X_star)\n",
    "    erroruinf = np.linalg.norm(u_star-u_pred,np.inf)\n",
    "    \n",
    "    print('randorm seed: %d' % (RandomSeed))\n",
    "    print('Training error in pre-training interval:(%.2f,%.2f)' % (lb[1], ubp[1]) ) \n",
    "    print('Error2 u: %e' % (erroru))\n",
    "    print('Error1 u: %e' % (erroru1))\n",
    "    print('Errorf u: %e' % (erroruinf))"
   ]
  },
  {
   "cell_type": "code",
   "execution_count": 10,
   "id": "830b1c94",
   "metadata": {
    "ExecuteTime": {
     "end_time": "2024-09-12T14:20:27.786856Z",
     "start_time": "2024-09-12T14:20:27.739857Z"
    }
   },
   "outputs": [
    {
     "name": "stdout",
     "output_type": "stream",
     "text": [
      "randorm seed: 1236\n",
      "Training error in pre-training interval:(0.00,0.50)\n",
      "Error2 u: 6.796514e-02\n",
      "Error1 u: 1.675055e-02\n",
      "Errorf u: 5.280274e-01\n"
     ]
    }
   ],
   "source": [
    "    t = data['tt'].flatten()[:,None] \n",
    "    x = data['x'].flatten()[:,None]\n",
    "    Exact = data['uu']\n",
    "    \n",
    "    X, T = np.meshgrid(x,t)\n",
    "    X_star = np.hstack((X.flatten()[:,None], T.flatten()[:,None]))\n",
    "    u_star = Exact.T.flatten()[:,None]\n",
    "    u_pred = model.predict(X_star[:,0:1],X_star[:,1:2])\n",
    "\n",
    "    erroru = np.linalg.norm(u_star - u_pred, 2) / np.linalg.norm(u_star, 2)\n",
    "    erroru1 = np.linalg.norm(u_star-u_pred,1)/len(X_star)\n",
    "    erroruinf = np.linalg.norm(u_star-u_pred,np.inf)\n",
    "    \n",
    "    print('randorm seed: %d' % (RandomSeed))\n",
    "    print('Training error in pre-training interval:(%.2f,%.2f)' % (lb[1], ubp[1]) ) \n",
    "    print('Error2 u: %e' % (erroru))\n",
    "    print('Error1 u: %e' % (erroru1))\n",
    "    print('Errorf u: %e' % (erroruinf))"
   ]
  },
  {
   "cell_type": "code",
   "execution_count": 11,
   "id": "566305af",
   "metadata": {
    "ExecuteTime": {
     "end_time": "2024-09-12T14:20:27.802048Z",
     "start_time": "2024-09-12T14:20:27.787856Z"
    }
   },
   "outputs": [],
   "source": [
    "    scipy.io.savemat(\"pretraining.mat\", {'u': u_pred})"
   ]
  },
  {
   "cell_type": "code",
   "execution_count": null,
   "id": "d0bbf8dc",
   "metadata": {},
   "outputs": [],
   "source": []
  },
  {
   "cell_type": "code",
   "execution_count": null,
   "id": "62573cc0",
   "metadata": {},
   "outputs": [],
   "source": []
  }
 ],
 "metadata": {
  "kernelspec": {
   "display_name": "tfcpu",
   "language": "python",
   "name": "tf"
  },
  "language_info": {
   "codemirror_mode": {
    "name": "ipython",
    "version": 3
   },
   "file_extension": ".py",
   "mimetype": "text/x-python",
   "name": "python",
   "nbconvert_exporter": "python",
   "pygments_lexer": "ipython3",
   "version": "3.6.13"
  }
 },
 "nbformat": 4,
 "nbformat_minor": 5
}
