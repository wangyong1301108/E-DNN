{
 "cells": [
  {
   "cell_type": "code",
   "execution_count": 1,
   "id": "1003afd2",
   "metadata": {
    "ExecuteTime": {
     "end_time": "2024-09-14T08:33:12.331801Z",
     "start_time": "2024-09-14T08:33:11.631800Z"
    }
   },
   "outputs": [
    {
     "name": "stderr",
     "output_type": "stream",
     "text": [
      "D:\\anaconda\\envs\\tf\\lib\\site-packages\\tensorflow\\python\\framework\\dtypes.py:526: FutureWarning: Passing (type, 1) or '1type' as a synonym of type is deprecated; in a future version of numpy, it will be understood as (type, (1,)) / '(1,)type'.\n",
      "  _np_qint8 = np.dtype([(\"qint8\", np.int8, 1)])\n",
      "D:\\anaconda\\envs\\tf\\lib\\site-packages\\tensorflow\\python\\framework\\dtypes.py:527: FutureWarning: Passing (type, 1) or '1type' as a synonym of type is deprecated; in a future version of numpy, it will be understood as (type, (1,)) / '(1,)type'.\n",
      "  _np_quint8 = np.dtype([(\"quint8\", np.uint8, 1)])\n",
      "D:\\anaconda\\envs\\tf\\lib\\site-packages\\tensorflow\\python\\framework\\dtypes.py:528: FutureWarning: Passing (type, 1) or '1type' as a synonym of type is deprecated; in a future version of numpy, it will be understood as (type, (1,)) / '(1,)type'.\n",
      "  _np_qint16 = np.dtype([(\"qint16\", np.int16, 1)])\n",
      "D:\\anaconda\\envs\\tf\\lib\\site-packages\\tensorflow\\python\\framework\\dtypes.py:529: FutureWarning: Passing (type, 1) or '1type' as a synonym of type is deprecated; in a future version of numpy, it will be understood as (type, (1,)) / '(1,)type'.\n",
      "  _np_quint16 = np.dtype([(\"quint16\", np.uint16, 1)])\n",
      "D:\\anaconda\\envs\\tf\\lib\\site-packages\\tensorflow\\python\\framework\\dtypes.py:530: FutureWarning: Passing (type, 1) or '1type' as a synonym of type is deprecated; in a future version of numpy, it will be understood as (type, (1,)) / '(1,)type'.\n",
      "  _np_qint32 = np.dtype([(\"qint32\", np.int32, 1)])\n",
      "D:\\anaconda\\envs\\tf\\lib\\site-packages\\tensorflow\\python\\framework\\dtypes.py:535: FutureWarning: Passing (type, 1) or '1type' as a synonym of type is deprecated; in a future version of numpy, it will be understood as (type, (1,)) / '(1,)type'.\n",
      "  np_resource = np.dtype([(\"resource\", np.ubyte, 1)])\n"
     ]
    }
   ],
   "source": [
    "import tensorflow as tf\n",
    "import numpy as np\n",
    "import scipy.io\n",
    "from pyDOE import lhs\n",
    "import math"
   ]
  },
  {
   "cell_type": "code",
   "execution_count": 2,
   "id": "f5192eb7",
   "metadata": {
    "ExecuteTime": {
     "end_time": "2024-09-14T08:33:12.347801Z",
     "start_time": "2024-09-14T08:33:12.332802Z"
    }
   },
   "outputs": [],
   "source": [
    "RandomSeed = 9\n",
    "np.random.seed(RandomSeed)\n",
    "tf.set_random_seed(RandomSeed)"
   ]
  },
  {
   "cell_type": "code",
   "execution_count": 3,
   "id": "261c0679",
   "metadata": {
    "ExecuteTime": {
     "end_time": "2024-09-14T08:33:12.378801Z",
     "start_time": "2024-09-14T08:33:12.347801Z"
    }
   },
   "outputs": [],
   "source": [
    "class PtPINNsss:\n",
    "    # Initialize the class\n",
    "    def __init__(self, x, t, u, lb, ub, lbp,ubp, layers,weights_values,biases_values):\n",
    "        \n",
    "        X = np.concatenate([x, t], 1)\n",
    "\n",
    "        self.X = X\n",
    "        \n",
    "        self.x = X[:,0:1]\n",
    "        self.t = X[:,1:2]\n",
    "        \n",
    "        self.u = u      \n",
    "        self.lb = lb\n",
    "        self.ub = ub\n",
    "        self.hsadasjd=0\n",
    "        self.ubp = ubp\n",
    "        self.lbp = lbp        \n",
    "        # Initialize NNs\n",
    "        self.layers = layers\n",
    "        self.hh=[]\n",
    "        self.hh1=[]      \n",
    "        \n",
    "        self.weights, self.biases = self.initialize_NN(layers)\n",
    "        \n",
    "\n",
    "        \n",
    "        self.weights_values = weights_values        \n",
    "        self.biases_values = biases_values    \n",
    "\n",
    "        self.sess = tf.Session(config=tf.ConfigProto(allow_soft_placement=True, log_device_placement=True))    \n",
    "\n",
    "        self.x_f_tf = tf.placeholder(tf.float32, shape=[None, self.x.shape[1]])\n",
    "        self.t_f_tf = tf.placeholder(tf.float32, shape=[None, self.t.shape[1]])\n",
    "        \n",
    "        self.x_lb_tf = tf.placeholder(tf.float32, shape=[None, self.x.shape[1]])\n",
    "        self.t_b_tf = tf.placeholder(tf.float32, shape=[None, self.t.shape[1]])\n",
    "        self.x_ub_tf = tf.placeholder(tf.float32, shape=[None, self.x.shape[1]])\n",
    "        \n",
    "        self.x_tf = tf.placeholder(tf.float32, shape=[None, self.x.shape[1]])\n",
    "        self.t_tf = tf.placeholder(tf.float32, shape=[None, self.t.shape[1]])\n",
    "        \n",
    "        self.u_tf = tf.placeholder(tf.float32, shape=[None, self.u.shape[1]])\n",
    "\n",
    "        self.u_pred, _ ,self.uuuuuu = self.net_AC(self.x_tf, self.t_tf)\n",
    "        self.u_lb_pred, self.ux_lb_pred,_ = self.net_AC(self.x_lb_tf, self.t_b_tf)\n",
    "        self.u_ub_pred, self.ux_ub_pred,_ = self.net_AC(self.x_ub_tf, self.t_b_tf)\n",
    "\n",
    "        self.f_pred = self.net_f(self.x_f_tf, self.t_f_tf)\n",
    "\n",
    "        self.lossfu =  tf.reduce_mean(tf.square(self.f_pred))    \n",
    "        \n",
    "\n",
    "        self.optimizer_Adam = tf.train.AdamOptimizer()\n",
    "\n",
    "        self.loss  =  self.lossfu\n",
    "        \n",
    "        self.train_op_Adam = self.optimizer_Adam.minimize(self.loss)      \n",
    "\n",
    "        self.sess = tf.Session(config=tf.ConfigProto(allow_soft_placement=True, log_device_placement=True))\n",
    "    \n",
    "        init = tf.global_variables_initializer()\n",
    "        self.sess.run(init)\n",
    "        self.save = tf.train.Saver(max_to_keep=1)\n",
    "              \n",
    "    def initialize_NN(self, layers):        \n",
    "        weights = []\n",
    "        biases = []\n",
    "        num_layers = len(layers) \n",
    "        for l in range(0,num_layers-1):\n",
    "            W = tf.Variable(tf.zeros([layers[l], layers[l+1]], dtype=tf.float32), dtype=tf.float32)\n",
    "            b = tf.Variable(tf.zeros([1,layers[l+1]], dtype=tf.float32), dtype=tf.float32)\n",
    "            weights.append(W)\n",
    "            biases.append(b)        \n",
    "        return weights, biases\n",
    "    \n",
    "    \n",
    "    def input_encoding(self, t, x):    \n",
    "        # 创建频率数组\n",
    "        pi_terms = tf.range(1, 11, dtype=tf.float32) * math.pi\n",
    "\n",
    "        # 计算cos和sin值\n",
    "        cos_vals = tf.cos(pi_terms * x)\n",
    "        sin_vals = tf.sin(pi_terms * x)\n",
    "\n",
    "        # 拼接成一个向量\n",
    "        H = tf.concat([t, 1 + 0 * tf.cos(math.pi * x), cos_vals, sin_vals], axis=1)\n",
    "\n",
    "        return H\n",
    " \n",
    "\n",
    "    def custom_function(self,t):\n",
    "        \n",
    "        condition2 = tf.less_equal(t, 0.5)\n",
    "        b=2*(t-0.5)\n",
    "        return tf.where(condition2, tf.zeros_like(t), -2*b**3+3*b**2)\n",
    "\n",
    "\n",
    "    def neural_net(self, x, t, weights, biases, weights_values, biases_values):\n",
    "        X = tf.concat([x, t], 1)\n",
    "        tt = 2 * t\n",
    "\n",
    "        # 提前计算 t 的自定义函数值，避免重复调用\n",
    "        B = self.custom_function(t)\n",
    "\n",
    "        # 输入编码\n",
    "        H = self.input_encoding(tt, x)\n",
    "        num_layers = len(weights) + 1\n",
    "\n",
    "        # 前向传播层\n",
    "        for l in range(num_layers - 2):\n",
    "            H0 = tf.add(tf.matmul(H, weights[l]), biases[l]) * B\n",
    "            H1 = tf.add(tf.matmul(H, weights_values[l]), biases_values[l])\n",
    "            H = tf.tanh(H0 + H1)\n",
    "\n",
    "        # 最后一层\n",
    "        H0 = tf.add(tf.matmul(H, weights[-1]), biases[-1]) * B\n",
    "        H1 = tf.add(tf.matmul(H, weights_values[-1]), biases_values[-1])\n",
    "        Y = H0 + H1\n",
    "\n",
    "        return Y\n",
    "\n",
    "    \n",
    "    def net_AC(self, x, t):\n",
    "        u = self.neural_net(x,t, self.weights, self.biases,self.weights_values, self.biases_values)\n",
    "        u_x = tf.gradients(u, x)[0]\n",
    "        u_t = tf.gradients(u, t)[0]\n",
    "\n",
    "        return u, u_x, u_t\n",
    "          \n",
    "    \n",
    "\n",
    "    def net_f(self, x, t):\n",
    "        u, u_x, u_t = self.net_AC(x, t)\n",
    "        \n",
    "        u_xx = tf.gradients(u_x, x)[0]\n",
    "        \n",
    "        f_u = u_t - 0.0001*u_xx+5*u**3-5*u\n",
    "        \n",
    "        return f_u\n",
    "    \n",
    "    def callback(self, loss,b,lossfu, lossS, lossB):\n",
    "        sss=self.hsadasjd\n",
    "        if sss%1000==0:\n",
    "            print('Loss: %.6e, Lossfu: %.3e, LossS: %.3e, LossB: %.3e ' % (loss, lossfu, lossS, lossB))\n",
    "        sss=sss+1\n",
    "        self.hsadasjd=sss      \n",
    "        self.hh1.append(b)   \n",
    "        \n",
    "    def train(self, nIter, Nf, Nb):\n",
    "\n",
    "        X_train = self.lbp + (self.ubp-self.lbp)*lhs(2, Nf)\n",
    "        self.xtrain_f = X_train[:,0:1]\n",
    "        self.ttrain_f = X_train[:,1:2] \n",
    "        \n",
    "        X_lb_train = self.lbp + [0,self.ubp[1]-self.lbp[1]]*lhs(2, Nb)\n",
    "        self.xtrain_lb = X_lb_train[:,0:1]\n",
    "        self.ttrain_b = X_lb_train[:,1:2]\n",
    "        \n",
    "        self.xtrain_ub = -1*X_lb_train[:,0:1]\n",
    "        \n",
    "        tf_dict = {self.x_tf: self.x, self.t_tf: self.t, self.u_tf: self.u,\n",
    "                   self.x_lb_tf: self.xtrain_lb, self.t_b_tf: self.ttrain_b, \n",
    "                   self.x_ub_tf: self.xtrain_ub, \n",
    "                   self.x_f_tf: self.xtrain_f, self.t_f_tf: self.ttrain_f}\n",
    "\n",
    "        for it in range(nIter):  \n",
    "            self.sess.run(self.train_op_Adam, tf_dict)\n",
    "                        \n",
    "        self.optimizer = tf.contrib.opt.ScipyOptimizerInterface(self.loss, method = 'L-BFGS-B', options = {'maxiter': 50000,'maxfun': 50000,'maxcor': 50,'maxls': 50,'ftol' : 1.0 * np.finfo(float).eps})                                                                                                         \n",
    "        self.optimizer.minimize(self.sess, feed_dict = tf_dict)        \n",
    "                                    \n",
    "    \n",
    "    def predict(self, x, t):\n",
    "        \n",
    "        tf_dict = {self.x_tf: x, self.t_tf: t}\n",
    "        u_star = self.sess.run(self.u_pred, tf_dict)\n",
    "        u_starssss = self.sess.run(self.uuuuuu, tf_dict)        \n",
    "        return u_star,u_starssss\n",
    "\n"
   ]
  },
  {
   "cell_type": "code",
   "execution_count": 4,
   "id": "e84f19c8",
   "metadata": {
    "ExecuteTime": {
     "end_time": "2024-09-14T08:33:12.394801Z",
     "start_time": "2024-09-14T08:33:12.378801Z"
    }
   },
   "outputs": [],
   "source": [
    "import pickle\n",
    "with open('bcweights.pkl', 'rb') as f:\n",
    "    weights_values = pickle.load(f)\n",
    "with open('bcweights1.pkl', 'rb') as f:\n",
    "    biases_values = pickle.load(f)"
   ]
  },
  {
   "cell_type": "code",
   "execution_count": 5,
   "id": "64ef6506",
   "metadata": {
    "ExecuteTime": {
     "end_time": "2024-09-14T08:41:02.438861Z",
     "start_time": "2024-09-14T08:33:12.394801Z"
    }
   },
   "outputs": [
    {
     "name": "stdout",
     "output_type": "stream",
     "text": [
      "WARNING:tensorflow:From D:\\anaconda\\envs\\tf\\lib\\site-packages\\tensorflow\\python\\framework\\op_def_library.py:263: colocate_with (from tensorflow.python.framework.ops) is deprecated and will be removed in a future version.\n",
      "Instructions for updating:\n",
      "Colocations handled automatically by placer.\n",
      "WARNING:tensorflow:From D:\\anaconda\\envs\\tf\\lib\\site-packages\\tensorflow\\python\\ops\\math_ops.py:3066: to_int32 (from tensorflow.python.ops.math_ops) is deprecated and will be removed in a future version.\n",
      "Instructions for updating:\n",
      "Use tf.cast instead.\n",
      "\n",
      "WARNING: The TensorFlow contrib module will not be included in TensorFlow 2.0.\n",
      "For more information, please see:\n",
      "  * https://github.com/tensorflow/community/blob/master/rfcs/20180907-contrib-sunset.md\n",
      "  * https://github.com/tensorflow/addons\n",
      "If you depend on functionality not listed there, please file an issue.\n",
      "\n",
      "INFO:tensorflow:Optimization terminated with:\n",
      "  Message: b'CONVERGENCE: NORM_OF_PROJECTED_GRADIENT_<=_PGTOL'\n",
      "  Objective function value: 0.000002\n",
      "  Number of iterations: 4764\n",
      "  Number of functions evaluations: 5215\n"
     ]
    }
   ],
   "source": [
    "if __name__ == \"__main__\": \n",
    "           \n",
    "    \n",
    "    # Doman bounds\n",
    "    lb = np.array([-1.0, 0])\n",
    "    ub = np.array([1.0, 0.5])\n",
    "\n",
    "\n",
    "    lbp = np.array([-1.0, 0.5])    \n",
    "    ubp = np.array([1.0,1.0])\n",
    "\n",
    "    \n",
    "    layers = [22, 50, 50, 50, 50, 1]\n",
    "    \n",
    "    data = scipy.io.loadmat('C:\\\\Users\\\\User\\\\Desktop\\\\data\\\\AC.mat')\n",
    "    \n",
    "    t = data['tt'].flatten()[:,None]\n",
    "    x = data['x'].flatten()[:,None]\n",
    "    Exact = data['uu']\n",
    "    \n",
    "    X, T = np.meshgrid(x,t)\n",
    "    X_star = np.hstack((X.flatten()[:,None], T.flatten()[:,None]))\n",
    "    u_star = Exact.T.flatten()[:,None]\n",
    "\n",
    "    def IC(x):\n",
    "        u = x**2*np.cos(np.pi*x)\n",
    "        return u\n",
    "\n",
    "    N0 = 2\n",
    "    x=np.linspace(-1,1,N0).flatten()[:,None]  \n",
    "    X0 =x\n",
    "    T0 = np.full((N0,1), lb[1])\n",
    "    U0 = IC(X0)\n",
    "      \n",
    "    model2 = PtPINNsss(X0, T0, U0, lb, ub,lbp, ubp, layers,weights_values,biases_values)                        \n",
    "    model2.train(5000, 5000, 200)  "
   ]
  },
  {
   "cell_type": "code",
   "execution_count": 6,
   "id": "e75c15cb",
   "metadata": {
    "ExecuteTime": {
     "end_time": "2024-09-14T08:41:02.932446Z",
     "start_time": "2024-09-14T08:41:02.439864Z"
    }
   },
   "outputs": [
    {
     "name": "stdout",
     "output_type": "stream",
     "text": [
      "randorm seed: 9\n",
      "Training error in pre-training interval:(0.00,1.00)\n",
      "Error2 u: 1.243146e-03\n",
      "Error1 u: 3.282063e-04\n",
      "Errorf u: 1.626120e-02\n"
     ]
    }
   ],
   "source": [
    "    u_pred ,_= model2.predict(X_star[:,0:1],X_star[:,1:2])\n",
    "\n",
    "    erroru = np.linalg.norm(u_star - u_pred, 2) / np.linalg.norm(u_star, 2)\n",
    "    erroru1 = np.linalg.norm(u_star-u_pred,1)/len(X_star)\n",
    "    erroruinf = np.linalg.norm(u_star-u_pred,np.inf)\n",
    "    \n",
    "    print('randorm seed: %d' % (RandomSeed))\n",
    "    print('Training error in pre-training interval:(%.2f,%.2f)' % (lb[1], ubp[1]) ) \n",
    "    print('Error2 u: %e' % (erroru))\n",
    "    print('Error1 u: %e' % (erroru1))\n",
    "    print('Errorf u: %e' % (erroruinf))"
   ]
  },
  {
   "cell_type": "code",
   "execution_count": 7,
   "id": "07c86c29",
   "metadata": {
    "ExecuteTime": {
     "end_time": "2024-09-14T08:41:03.060446Z",
     "start_time": "2024-09-14T08:41:02.933446Z"
    }
   },
   "outputs": [
    {
     "name": "stdout",
     "output_type": "stream",
     "text": [
      "randorm seed: 9\n",
      "Training error in pre-training interval:(0.00,1.00)\n",
      "Error2 u: 5.478291e-04\n",
      "Error1 u: 1.855838e-04\n",
      "Errorf u: 3.767636e-03\n"
     ]
    }
   ],
   "source": [
    "    t = data['tt'].flatten()[:,None][0:101] \n",
    "    x = data['x'].flatten()[:,None]\n",
    "    Exact = data['uu'][:,0:101] \n",
    "    \n",
    "    X, T = np.meshgrid(x,t)\n",
    "    X_star = np.hstack((X.flatten()[:,None], T.flatten()[:,None]))\n",
    "    u_star = Exact.T.flatten()[:,None]\n",
    "    u_pred,_ = model2.predict(X_star[:,0:1],X_star[:,1:2])\n",
    "\n",
    "    erroru = np.linalg.norm(u_star - u_pred, 2) / np.linalg.norm(u_star, 2)\n",
    "    erroru1 = np.linalg.norm(u_star-u_pred,1)/len(X_star)\n",
    "    erroruinf = np.linalg.norm(u_star-u_pred,np.inf)\n",
    "    \n",
    "    print('randorm seed: %d' % (RandomSeed))\n",
    "    print('Training error in pre-training interval:(%.2f,%.2f)' % (lb[1], ubp[1]) ) \n",
    "    print('Error2 u: %e' % (erroru))\n",
    "    print('Error1 u: %e' % (erroru1))\n",
    "    print('Errorf u: %e' % (erroruinf))"
   ]
  },
  {
   "cell_type": "code",
   "execution_count": 8,
   "id": "f8d6e332",
   "metadata": {
    "ExecuteTime": {
     "end_time": "2024-09-14T08:41:03.312446Z",
     "start_time": "2024-09-14T08:41:03.061446Z"
    }
   },
   "outputs": [
    {
     "name": "stdout",
     "output_type": "stream",
     "text": [
      "randorm seed: 9\n",
      "Training error in pre-training interval:(0.00,1.00)\n",
      "Error2 u: 1.243146e-03\n",
      "Error1 u: 3.282063e-04\n",
      "Errorf u: 1.626120e-02\n"
     ]
    }
   ],
   "source": [
    "    t = data['tt'].flatten()[:,None]\n",
    "    x = data['x'].flatten()[:,None]\n",
    "    Exact = data['uu']\n",
    "    \n",
    "    X, T = np.meshgrid(x,t)\n",
    "    X_star = np.hstack((X.flatten()[:,None], T.flatten()[:,None]))\n",
    "    u_star = Exact.T.flatten()[:,None]\n",
    "    u_pred,f_pred = model2.predict(X_star[:,0:1],X_star[:,1:2])\n",
    "\n",
    "    erroru = np.linalg.norm(u_star - u_pred, 2) / np.linalg.norm(u_star, 2)\n",
    "    erroru1 = np.linalg.norm(u_star-u_pred,1)/len(X_star)\n",
    "    erroruinf = np.linalg.norm(u_star-u_pred,np.inf)\n",
    "    \n",
    "    print('randorm seed: %d' % (RandomSeed))\n",
    "    print('Training error in pre-training interval:(%.2f,%.2f)' % (lb[1], ubp[1]) ) \n",
    "    print('Error2 u: %e' % (erroru))\n",
    "    print('Error1 u: %e' % (erroru1))\n",
    "    print('Errorf u: %e' % (erroruinf))"
   ]
  },
  {
   "cell_type": "code",
   "execution_count": 9,
   "id": "5abd4845",
   "metadata": {
    "ExecuteTime": {
     "end_time": "2024-09-14T08:41:03.328458Z",
     "start_time": "2024-09-14T08:41:03.313446Z"
    }
   },
   "outputs": [],
   "source": [
    "    scipy.io.savemat(\"sedpinn.mat\", {'u': u_pred})"
   ]
  },
  {
   "cell_type": "code",
   "execution_count": 10,
   "id": "afcb16bb",
   "metadata": {
    "ExecuteTime": {
     "end_time": "2024-09-14T08:41:03.344464Z",
     "start_time": "2024-09-14T08:41:03.329458Z"
    }
   },
   "outputs": [],
   "source": [
    "    scipy.io.savemat(\"sedf.mat\", {'u': f_pred})"
   ]
  },
  {
   "cell_type": "code",
   "execution_count": null,
   "id": "b25da752",
   "metadata": {},
   "outputs": [],
   "source": []
  },
  {
   "cell_type": "code",
   "execution_count": null,
   "id": "99a70017",
   "metadata": {},
   "outputs": [],
   "source": []
  },
  {
   "cell_type": "code",
   "execution_count": null,
   "id": "a4594642",
   "metadata": {},
   "outputs": [],
   "source": []
  }
 ],
 "metadata": {
  "kernelspec": {
   "display_name": "tfcpu",
   "language": "python",
   "name": "tf"
  },
  "language_info": {
   "codemirror_mode": {
    "name": "ipython",
    "version": 3
   },
   "file_extension": ".py",
   "mimetype": "text/x-python",
   "name": "python",
   "nbconvert_exporter": "python",
   "pygments_lexer": "ipython3",
   "version": "3.6.13"
  }
 },
 "nbformat": 4,
 "nbformat_minor": 5
}
