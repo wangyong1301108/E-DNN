{
 "cells": [
  {
   "cell_type": "code",
   "execution_count": 1,
   "id": "905cc23d",
   "metadata": {
    "ExecuteTime": {
     "end_time": "2024-06-08T05:11:28.423675Z",
     "start_time": "2024-06-08T05:11:27.642677Z"
    }
   },
   "outputs": [
    {
     "name": "stderr",
     "output_type": "stream",
     "text": [
      "D:\\anaconda\\envs\\tf\\lib\\site-packages\\tensorflow\\python\\framework\\dtypes.py:526: FutureWarning: Passing (type, 1) or '1type' as a synonym of type is deprecated; in a future version of numpy, it will be understood as (type, (1,)) / '(1,)type'.\n",
      "  _np_qint8 = np.dtype([(\"qint8\", np.int8, 1)])\n",
      "D:\\anaconda\\envs\\tf\\lib\\site-packages\\tensorflow\\python\\framework\\dtypes.py:527: FutureWarning: Passing (type, 1) or '1type' as a synonym of type is deprecated; in a future version of numpy, it will be understood as (type, (1,)) / '(1,)type'.\n",
      "  _np_quint8 = np.dtype([(\"quint8\", np.uint8, 1)])\n",
      "D:\\anaconda\\envs\\tf\\lib\\site-packages\\tensorflow\\python\\framework\\dtypes.py:528: FutureWarning: Passing (type, 1) or '1type' as a synonym of type is deprecated; in a future version of numpy, it will be understood as (type, (1,)) / '(1,)type'.\n",
      "  _np_qint16 = np.dtype([(\"qint16\", np.int16, 1)])\n",
      "D:\\anaconda\\envs\\tf\\lib\\site-packages\\tensorflow\\python\\framework\\dtypes.py:529: FutureWarning: Passing (type, 1) or '1type' as a synonym of type is deprecated; in a future version of numpy, it will be understood as (type, (1,)) / '(1,)type'.\n",
      "  _np_quint16 = np.dtype([(\"quint16\", np.uint16, 1)])\n",
      "D:\\anaconda\\envs\\tf\\lib\\site-packages\\tensorflow\\python\\framework\\dtypes.py:530: FutureWarning: Passing (type, 1) or '1type' as a synonym of type is deprecated; in a future version of numpy, it will be understood as (type, (1,)) / '(1,)type'.\n",
      "  _np_qint32 = np.dtype([(\"qint32\", np.int32, 1)])\n",
      "D:\\anaconda\\envs\\tf\\lib\\site-packages\\tensorflow\\python\\framework\\dtypes.py:535: FutureWarning: Passing (type, 1) or '1type' as a synonym of type is deprecated; in a future version of numpy, it will be understood as (type, (1,)) / '(1,)type'.\n",
      "  np_resource = np.dtype([(\"resource\", np.ubyte, 1)])\n"
     ]
    }
   ],
   "source": [
    "import tensorflow as tf\n",
    "import numpy as np\n",
    "import scipy.io\n",
    "from pyDOE import lhs\n",
    "import math"
   ]
  },
  {
   "cell_type": "code",
   "execution_count": 2,
   "id": "62861606",
   "metadata": {
    "ExecuteTime": {
     "end_time": "2024-06-08T05:11:28.438970Z",
     "start_time": "2024-06-08T05:11:28.424676Z"
    }
   },
   "outputs": [],
   "source": [
    "RandomSeed = 1234\n",
    "np.random.seed(RandomSeed)\n",
    "tf.set_random_seed(RandomSeed)"
   ]
  },
  {
   "cell_type": "code",
   "execution_count": 3,
   "id": "e310e98d",
   "metadata": {
    "ExecuteTime": {
     "end_time": "2024-06-08T05:11:28.470970Z",
     "start_time": "2024-06-08T05:11:28.439970Z"
    }
   },
   "outputs": [],
   "source": [
    "class PtPINN:\n",
    "    def __init__(self, x, t, u, lb, ub, ubp, layers):       \n",
    "        X = np.concatenate([x, t], 1)\n",
    "        self.X = X\n",
    "        self.x = X[:,0:1]\n",
    "        self.t = X[:,1:2]\n",
    "        self.u = u\n",
    "        self.hsadasjd=0\n",
    "        self.lb = lb\n",
    "        self.ub = ub\n",
    "        self.ubp = ubp\n",
    "        \n",
    "        self.layers = layers\n",
    "        self.weights, self.biases = self.initialize_NN(layers) \n",
    "\n",
    "        self.x_f_tf = tf.placeholder(tf.float64, shape=[None, self.x.shape[1]])\n",
    "        self.t_f_tf = tf.placeholder(tf.float64, shape=[None, self.t.shape[1]])\n",
    "        self.x_lb_tf = tf.placeholder(tf.float64, shape=[None, self.x.shape[1]])\n",
    "        self.t_b_tf = tf.placeholder(tf.float64, shape=[None, self.t.shape[1]])\n",
    "        self.x_ub_tf = tf.placeholder(tf.float64, shape=[None, self.x.shape[1]])\n",
    "        self.x_tf = tf.placeholder(tf.float64, shape=[None, self.x.shape[1]])\n",
    "        self.t_tf = tf.placeholder(tf.float64, shape=[None, self.t.shape[1]])\n",
    "        self.u_tf = tf.placeholder(tf.float64, shape=[None, self.u.shape[1]])\n",
    "\n",
    "        self.u_pred, _ ,_ = self.net_AC(self.x_tf, self.t_tf)\n",
    "        self.u_lb_pred, self.ux_lb_pred,_ = self.net_AC(self.x_lb_tf, self.t_b_tf)\n",
    "        self.u_ub_pred, self.ux_ub_pred,_ = self.net_AC(self.x_ub_tf, self.t_b_tf)\n",
    "\n",
    "        self.f_pred = self.net_f(self.x_f_tf, self.t_f_tf)\n",
    "        \n",
    "        self.lossS = tf.reduce_mean(tf.square(self.u_tf - self.u_pred))\n",
    "                                              \n",
    "        self.lossB = tf.reduce_mean(tf.square(self.u_lb_pred - self.u_ub_pred)) + tf.reduce_mean(tf.square(self.ux_lb_pred - self.ux_ub_pred))\n",
    "                                             \n",
    "        self.lossfu = tf.reduce_mean(tf.square(self.f_pred))        \n",
    "        \n",
    "        self.optimizer_Adam = tf.train.AdamOptimizer()\n",
    "        \n",
    "        self.loss  =  64 * self.lossS + self.lossB + self.lossfu\n",
    "        \n",
    "        self.train_op_Adam = self.optimizer_Adam.minimize(self.loss)      \n",
    "\n",
    "        self.sess = tf.Session(config=tf.ConfigProto(allow_soft_placement=True, log_device_placement=True))\n",
    "    \n",
    "        init = tf.global_variables_initializer()\n",
    "        self.sess.run(init)\n",
    "        self.save = tf.train.Saver(max_to_keep=1)\n",
    "              \n",
    "    def initialize_NN(self, layers):        \n",
    "        weights = []\n",
    "        biases = []\n",
    "        num_layers = len(layers) \n",
    "        for l in range(0,num_layers-1):\n",
    "            W = self.xavier_init(size=[layers[l], layers[l+1]])\n",
    "            b = tf.Variable(tf.zeros([1,layers[l+1]], dtype=tf.float64), dtype=tf.float64)\n",
    "            weights.append(W)\n",
    "            biases.append(b)        \n",
    "        return weights, biases\n",
    "        \n",
    "    def xavier_init(self, size):\n",
    "        in_dim = size[0]\n",
    "        out_dim = size[1]        \n",
    "        xavier_stddev = np.sqrt(2/(in_dim + out_dim))\n",
    "        return tf.Variable(tf.truncated_normal([in_dim, out_dim], stddev=xavier_stddev, dtype=tf.float64))\n",
    "    \n",
    "    \n",
    "    \n",
    "    def input_encoding(self, t, x):    \n",
    "        H=tf.concat([t,1+0*tf.cos(math.pi*x)],1)\n",
    "        H=tf.concat([H,tf.cos(math.pi*x)],1)\n",
    "        H=tf.concat([H,tf.sin(math.pi*x)],1) \n",
    "        H=tf.concat([H,tf.cos(2*math.pi*x)],1)\n",
    "        H=tf.concat([H,tf.sin(2*math.pi*x)],1)         \n",
    "        H=tf.concat([H,tf.cos(3*math.pi*x)],1)\n",
    "        H=tf.concat([H,tf.sin(3*math.pi*x)],1)         \n",
    "        H=tf.concat([H,tf.cos(4*math.pi*x)],1)\n",
    "        H=tf.concat([H,tf.sin(4*math.pi*x)],1)         \n",
    "        H=tf.concat([H,tf.cos(5*math.pi*x)],1)\n",
    "        H=tf.concat([H,tf.sin(5*math.pi*x)],1)         \n",
    "        H=tf.concat([H,tf.cos(6*math.pi*x)],1)\n",
    "        H=tf.concat([H,tf.sin(6*math.pi*x)],1)         \n",
    "        H=tf.concat([H,tf.cos(7*math.pi*x)],1)\n",
    "        H=tf.concat([H,tf.sin(7*math.pi*x)],1)         \n",
    "        H=tf.concat([H,tf.cos(8*math.pi*x)],1)\n",
    "        H=tf.concat([H,tf.sin(8*math.pi*x)],1)         \n",
    "        H=tf.concat([H,tf.cos(9*math.pi*x)],1)\n",
    "        H=tf.concat([H,tf.sin(9*math.pi*x)],1)         \n",
    "        H=tf.concat([H,tf.cos(10*math.pi*x)],1)\n",
    "        H=tf.concat([H,tf.sin(10*math.pi*x)],1)           \n",
    "        return H\n",
    "        \n",
    "        \n",
    "    def neural_net(self, x,t, weights, biases):\n",
    "        num_layers = len(weights) + 1\n",
    "        t = 5*t \n",
    "        H = self.input_encoding(t, x)\n",
    "        for l in range(0,num_layers-2):\n",
    "            W = weights[l]\n",
    "            b = biases[l]\n",
    "            H = tf.tanh(tf.add(tf.matmul(H, W), b))\n",
    "        W = weights[-1]\n",
    "        b = biases[-1]\n",
    "        Y = tf.add(tf.matmul(H, W), b)\n",
    "        return Y\n",
    "    \n",
    "    def net_AC(self, x, t):\n",
    "        u = self.neural_net(x,t, self.weights, self.biases)\n",
    "        u_x = tf.gradients(u, x)[0]\n",
    "        u_t = tf.gradients(u, t)[0]\n",
    "        return u, u_x, u_t\n",
    "    \n",
    "    \n",
    "\n",
    "    def net_f(self, x, t):\n",
    "        u, u_x, u_t = self.net_AC(x, t)\n",
    "        u_xx = tf.gradients(u_x, x)[0]\n",
    "        f_u = u_t - 0.0001*u_xx+5*u**3-5*u\n",
    "        return f_u\n",
    "    \n",
    "    def callback(self, loss, lossfu, lossS, lossB):\n",
    "        sss=self.hsadasjd\n",
    "        if sss%1000==0:\n",
    "            print('Loss: %.6e, Lossfu: %.3e, LossS: %.3e, LossB: %.3e ' % (loss, lossfu, lossS, lossB))\n",
    "        sss=sss+1\n",
    "        self.hsadasjd=sss \n",
    "        \n",
    "    def train(self, nIter, Nf, Nn, Nb):\n",
    "        X_train = self.lb + (self.ubp-self.lb)*lhs(2, Nf)\n",
    "        self.xtrain_f = X_train[:,0:1]\n",
    "        self.ttrain_f = X_train[:,1:2] \n",
    "        \n",
    "        X_lb_train = self.lb + [0,self.ubp[1]-self.lb[1]]*lhs(2, Nb)\n",
    "        self.xtrain_lb = X_lb_train[:,0:1]\n",
    "        self.ttrain_b = X_lb_train[:,1:2]\n",
    "        \n",
    "        X_ub_train = [self.ubp[0],self.lb[1]] + [0,self.ubp[1]-self.lb[1]]*lhs(2, Nb)\n",
    "        self.xtrain_ub = -1*X_lb_train[:,0:1]\n",
    "        \n",
    "        tf_dict = {self.x_tf: self.x, self.t_tf: self.t, self.u_tf: self.u,\n",
    "                   self.x_lb_tf: self.xtrain_lb, self.t_b_tf: self.ttrain_b, \n",
    "                   self.x_ub_tf: self.xtrain_ub, \n",
    "                   self.x_f_tf: self.xtrain_f, self.t_f_tf: self.ttrain_f}\n",
    "\n",
    "        for it in range(nIter):\n",
    "            loss_value = self.sess.run(self.loss, tf_dict)\n",
    "            lossfu = self.sess.run(self.lossfu, tf_dict)\n",
    "            lossS = self.sess.run(self.lossS, tf_dict)\n",
    "            lossB = self.sess.run(self.lossB, tf_dict)\n",
    "            self.sess.run(self.train_op_Adam, tf_dict)\n",
    "            if it % 1000 == 0:\n",
    "                print('It: %d, Loss: %.6e, Lossfu: %.3e, LossS: %.3e, LossB: %.3e' % (it, loss_value, lossfu, lossS, lossB))\n",
    "        \n",
    "        # L-BFGS optimizer    \n",
    "        self.optimizer = tf.contrib.opt.ScipyOptimizerInterface(self.loss, method = 'L-BFGS-B', options = {'maxiter': 50000,\n",
    "                                                                           'maxfun': 50000, 'maxcor': 50, 'maxls': 50, 'ftol' : 1.0 * np.finfo(float).eps})                                                                                                         \n",
    "        self.optimizer.minimize(self.sess, feed_dict = tf_dict,fetches = [self.loss, self.lossfu, self.lossS, self.lossB],loss_callback = self.callback)        \n",
    "                                    \n",
    "    \n",
    "    def predict(self, x, t):\n",
    "        \n",
    "        tf_dict = {self.x_tf: x, self.t_tf: t}\n",
    "        u_star = self.sess.run(self.u_pred, tf_dict)\n",
    "        \n",
    "        return u_star\n",
    "\n",
    "    def saver(self, string):\n",
    "        self.save.save(self.sess, 'ckpt/'+string)\n",
    "        \n",
    "    def restore(self):\n",
    "        model_file = tf.train.latest_checkpoint('ckpt/')\n",
    "        self.save.restore(self.sess, model_file)"
   ]
  },
  {
   "cell_type": "code",
   "execution_count": 4,
   "id": "d384d6d8",
   "metadata": {
    "ExecuteTime": {
     "end_time": "2024-06-08T07:27:23.602939Z",
     "start_time": "2024-06-08T05:11:28.470970Z"
    },
    "scrolled": false
   },
   "outputs": [
    {
     "name": "stdout",
     "output_type": "stream",
     "text": [
      "WARNING:tensorflow:From D:\\anaconda\\envs\\tf\\lib\\site-packages\\tensorflow\\python\\framework\\op_def_library.py:263: colocate_with (from tensorflow.python.framework.ops) is deprecated and will be removed in a future version.\n",
      "Instructions for updating:\n",
      "Colocations handled automatically by placer.\n",
      "WARNING:tensorflow:From D:\\anaconda\\envs\\tf\\lib\\site-packages\\tensorflow\\python\\ops\\math_ops.py:3066: to_int32 (from tensorflow.python.ops.math_ops) is deprecated and will be removed in a future version.\n",
      "Instructions for updating:\n",
      "Use tf.cast instead.\n",
      "It: 0, Loss: 1.103770e+01, Lossfu: 1.092e+00, LossS: 1.554e-01, LossB: 2.818e-29\n",
      "It: 1000, Loss: 1.331029e-03, Lossfu: 1.237e-03, LossS: 1.474e-06, LossB: 5.468e-29\n",
      "It: 2000, Loss: 8.246254e-03, Lossfu: 2.930e-03, LossS: 8.307e-05, LossB: 4.904e-29\n",
      "It: 3000, Loss: 5.057858e-03, Lossfu: 1.959e-03, LossS: 4.841e-05, LossB: 6.702e-29\n",
      "It: 4000, Loss: 5.208273e-04, Lossfu: 4.415e-04, LossS: 1.240e-06, LossB: 6.197e-29\n",
      "\n",
      "WARNING: The TensorFlow contrib module will not be included in TensorFlow 2.0.\n",
      "For more information, please see:\n",
      "  * https://github.com/tensorflow/community/blob/master/rfcs/20180907-contrib-sunset.md\n",
      "  * https://github.com/tensorflow/addons\n",
      "If you depend on functionality not listed there, please file an issue.\n",
      "\n",
      "Loss: 7.926419e-04, Lossfu: 5.002e-04, LossS: 4.570e-06, LossB: 6.658e-29 \n",
      "Loss: 3.237489e-05, Lossfu: 1.804e-05, LossS: 2.240e-07, LossB: 1.129e-28 \n",
      "Loss: 1.547314e-05, Lossfu: 6.450e-06, LossS: 1.410e-07, LossB: 1.339e-28 \n",
      "Loss: 9.358533e-06, Lossfu: 3.924e-06, LossS: 8.491e-08, LossB: 1.918e-28 \n",
      "Loss: 6.216604e-06, Lossfu: 2.451e-06, LossS: 5.883e-08, LossB: 2.715e-28 \n",
      "Loss: 4.539821e-06, Lossfu: 1.798e-06, LossS: 4.283e-08, LossB: 3.180e-28 \n",
      "Loss: 3.695870e-06, Lossfu: 1.470e-06, LossS: 3.478e-08, LossB: 3.765e-28 \n",
      "Loss: 3.088339e-06, Lossfu: 1.242e-06, LossS: 2.886e-08, LossB: 4.182e-28 \n",
      "Loss: 2.676545e-06, Lossfu: 1.041e-06, LossS: 2.555e-08, LossB: 4.629e-28 \n",
      "INFO:tensorflow:Optimization terminated with:\n",
      "  Message: b'CONVERGENCE: NORM_OF_PROJECTED_GRADIENT_<=_PGTOL'\n",
      "  Objective function value: 0.000002\n",
      "  Number of iterations: 8388\n",
      "  Number of functions evaluations: 8843\n",
      "randorm seed: 1234\n",
      "Training error in pre-training interval:(0.00,0.20)\n",
      "Error2 u: 2.832546e-02\n",
      "Error1 u: 6.453176e-03\n",
      "Errorf u: 1.084445e-01\n"
     ]
    }
   ],
   "source": [
    "if __name__ == \"__main__\": \n",
    "           \n",
    "\n",
    "    lb = np.array([-1.0, 0])\n",
    "    ub = np.array([1.0, 1])\n",
    "\n",
    "    ubp = np.array([1.0,0.2])\n",
    "\n",
    "\n",
    "    \n",
    "    layers = [22, 100, 100, 100, 100, 1]\n",
    "    \n",
    "    data = scipy.io.loadmat('C:\\\\Users\\\\User\\\\Desktop\\\\data\\\\AC.mat')\n",
    "    \n",
    "    t = data['tt'].flatten()[:,None][0:101] \n",
    "    x = data['x'].flatten()[:,None]\n",
    "    Exact = data['uu'][:,0:101]\n",
    "    \n",
    "\n",
    "    \n",
    "    X, T = np.meshgrid(x,t)\n",
    "    X_star = np.hstack((X.flatten()[:,None], T.flatten()[:,None]))\n",
    "    u_star = Exact.T.flatten()[:,None]\n",
    "\n",
    "    def IC(x):\n",
    "        u = x**2*np.cos(np.pi*x)\n",
    "        return u\n",
    "\n",
    "    N0 = 1200\n",
    "    x=np.linspace(-1,1,N0).flatten()[:,None]  \n",
    "    X0 =x\n",
    "    T0 = np.full((N0,1), lb[1])\n",
    "    U0 = IC(X0)\n",
    "      \n",
    "    model = PtPINN(X0, T0, U0, lb, ub, ubp, layers)                          \n",
    "\n",
    "    model.train(5000,4000,1200,240)      \n",
    "    \n",
    "    u_pred = model.predict(X_star[:,0:1],X_star[:,1:2])\n",
    "\n",
    "    erroru = np.linalg.norm(u_star - u_pred, 2) / np.linalg.norm(u_star, 2)\n",
    "    erroru1 = np.linalg.norm(u_star-u_pred,1)/len(X_star)\n",
    "    erroruinf = np.linalg.norm(u_star-u_pred,np.inf)\n",
    "    \n",
    "    print('randorm seed: %d' % (RandomSeed))\n",
    "    print('Training error in pre-training interval:(%.2f,%.2f)' % (lb[1], ubp[1]) ) \n",
    "    print('Error2 u: %e' % (erroru))\n",
    "    print('Error1 u: %e' % (erroru1))\n",
    "    print('Errorf u: %e' % (erroruinf))"
   ]
  },
  {
   "cell_type": "code",
   "execution_count": 15,
   "id": "03db7e97",
   "metadata": {
    "ExecuteTime": {
     "end_time": "2024-06-09T04:40:29.628778Z",
     "start_time": "2024-06-09T04:40:29.466779Z"
    }
   },
   "outputs": [],
   "source": [
    "weights_values = model.sess.run(model.weights)\n",
    "biases_values = model.sess.run(model.biases)"
   ]
  },
  {
   "cell_type": "code",
   "execution_count": 16,
   "id": "99facc06",
   "metadata": {
    "ExecuteTime": {
     "end_time": "2024-06-09T04:40:29.684780Z",
     "start_time": "2024-06-09T04:40:29.676778Z"
    }
   },
   "outputs": [],
   "source": [
    "import pickle"
   ]
  },
  {
   "cell_type": "code",
   "execution_count": 17,
   "id": "f17462f5",
   "metadata": {
    "ExecuteTime": {
     "end_time": "2024-06-09T04:40:30.158642Z",
     "start_time": "2024-06-09T04:40:30.134778Z"
    }
   },
   "outputs": [],
   "source": [
    "with open('bcweights.pkl', 'wb') as f:\n",
    "    pickle.dump(weights_values, f)"
   ]
  },
  {
   "cell_type": "code",
   "execution_count": 18,
   "id": "e6a2726c",
   "metadata": {
    "ExecuteTime": {
     "end_time": "2024-06-09T04:40:30.522925Z",
     "start_time": "2024-06-09T04:40:30.511925Z"
    }
   },
   "outputs": [],
   "source": [
    "with open('bcweights1.pkl', 'wb') as f:\n",
    "    pickle.dump(biases_values, f)"
   ]
  },
  {
   "cell_type": "code",
   "execution_count": 20,
   "id": "57989036",
   "metadata": {
    "ExecuteTime": {
     "end_time": "2024-06-09T04:47:19.071922Z",
     "start_time": "2024-06-09T04:47:18.844923Z"
    }
   },
   "outputs": [
    {
     "name": "stdout",
     "output_type": "stream",
     "text": [
      "randorm seed: 1234\n",
      "Training error in pre-training interval:(0.00,0.20)\n",
      "Error2 u: 1.711667e-04\n",
      "Error1 u: 5.102864e-05\n",
      "Errorf u: 2.847895e-03\n"
     ]
    }
   ],
   "source": [
    "    t = data['tt'].flatten()[:,None][0:41] \n",
    "    x = data['x'].flatten()[:,None]\n",
    "    Exact = data['uu'][:,0:41]\n",
    "    \n",
    "    X, T = np.meshgrid(x,t)\n",
    "    X_star = np.hstack((X.flatten()[:,None], T.flatten()[:,None]))\n",
    "    u_star = Exact.T.flatten()[:,None]\n",
    "    u_pred = model.predict(X_star[:,0:1],X_star[:,1:2])\n",
    "\n",
    "    erroru = np.linalg.norm(u_star - u_pred, 2) / np.linalg.norm(u_star, 2)\n",
    "    erroru1 = np.linalg.norm(u_star-u_pred,1)/len(X_star)\n",
    "    erroruinf = np.linalg.norm(u_star-u_pred,np.inf)\n",
    "    \n",
    "    print('randorm seed: %d' % (RandomSeed))\n",
    "    print('Training error in pre-training interval:(%.2f,%.2f)' % (lb[1], ubp[1]) ) \n",
    "    print('Error2 u: %e' % (erroru))\n",
    "    print('Error1 u: %e' % (erroru1))\n",
    "    print('Errorf u: %e' % (erroruinf))"
   ]
  },
  {
   "cell_type": "code",
   "execution_count": 21,
   "id": "264b507c",
   "metadata": {
    "ExecuteTime": {
     "end_time": "2024-06-09T04:47:19.181147Z",
     "start_time": "2024-06-09T04:47:19.166922Z"
    }
   },
   "outputs": [],
   "source": [
    "    scipy.io.savemat(\"solution1.mat\", {'u': u_pred})"
   ]
  },
  {
   "cell_type": "code",
   "execution_count": null,
   "id": "cc30fabc",
   "metadata": {},
   "outputs": [],
   "source": []
  },
  {
   "cell_type": "code",
   "execution_count": null,
   "id": "f12d9f56",
   "metadata": {},
   "outputs": [],
   "source": []
  },
  {
   "cell_type": "code",
   "execution_count": null,
   "id": "73129aba",
   "metadata": {},
   "outputs": [],
   "source": []
  }
 ],
 "metadata": {
  "kernelspec": {
   "display_name": "tfcpu",
   "language": "python",
   "name": "tf"
  },
  "language_info": {
   "codemirror_mode": {
    "name": "ipython",
    "version": 3
   },
   "file_extension": ".py",
   "mimetype": "text/x-python",
   "name": "python",
   "nbconvert_exporter": "python",
   "pygments_lexer": "ipython3",
   "version": "3.6.13"
  }
 },
 "nbformat": 4,
 "nbformat_minor": 5
}
